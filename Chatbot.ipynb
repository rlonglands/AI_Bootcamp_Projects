{
 "cells": [
  {
   "cell_type": "markdown",
   "id": "8eac4944",
   "metadata": {},
   "source": [
    "##  Chatbot using NLTK"
   ]
  },
  {
   "cell_type": "code",
   "execution_count": 20,
   "id": "bbf9f27d-8c09-4b03-b941-a13afe252570",
   "metadata": {},
   "outputs": [],
   "source": [
    "import pandas as pd\n",
    "import nltk \n",
    "import numpy as np\n",
    "import re\n",
    "from nltk.stem import wordnet # to perform lemmitization\n",
    "from sklearn.feature_extraction.text import CountVectorizer # to perform bow\n",
    "from sklearn.feature_extraction.text import TfidfVectorizer # to perform tfidf\n",
    "from nltk import pos_tag # for parts of speech\n",
    "from sklearn.metrics import pairwise_distances # to perfrom cosine similarity\n",
    "from nltk import word_tokenize # to create tokens\n",
    "from nltk.corpus import stopwords # for stop words"
   ]
  },
  {
   "cell_type": "code",
   "execution_count": 2,
   "id": "339eecc8-5c3d-4bd4-802f-c8206c1c3478",
   "metadata": {},
   "outputs": [
    {
     "data": {
      "text/html": [
       "<div>\n",
       "<style scoped>\n",
       "    .dataframe tbody tr th:only-of-type {\n",
       "        vertical-align: middle;\n",
       "    }\n",
       "\n",
       "    .dataframe tbody tr th {\n",
       "        vertical-align: top;\n",
       "    }\n",
       "\n",
       "    .dataframe thead th {\n",
       "        text-align: right;\n",
       "    }\n",
       "</style>\n",
       "<table border=\"1\" class=\"dataframe\">\n",
       "  <thead>\n",
       "    <tr style=\"text-align: right;\">\n",
       "      <th></th>\n",
       "      <th>Context</th>\n",
       "      <th>Text Response</th>\n",
       "    </tr>\n",
       "  </thead>\n",
       "  <tbody>\n",
       "    <tr>\n",
       "      <th>0</th>\n",
       "      <td>Tell me about your personality</td>\n",
       "      <td>Just think of me as the ace up your sleeve.</td>\n",
       "    </tr>\n",
       "    <tr>\n",
       "      <th>1</th>\n",
       "      <td>I want to know you better</td>\n",
       "      <td>I can help you work smarter instead of harder</td>\n",
       "    </tr>\n",
       "    <tr>\n",
       "      <th>2</th>\n",
       "      <td>Define yourself</td>\n",
       "      <td>NaN</td>\n",
       "    </tr>\n",
       "    <tr>\n",
       "      <th>3</th>\n",
       "      <td>Describe yourself</td>\n",
       "      <td>NaN</td>\n",
       "    </tr>\n",
       "    <tr>\n",
       "      <th>4</th>\n",
       "      <td>tell me about yourself</td>\n",
       "      <td>NaN</td>\n",
       "    </tr>\n",
       "    <tr>\n",
       "      <th>5</th>\n",
       "      <td>all about you</td>\n",
       "      <td>NaN</td>\n",
       "    </tr>\n",
       "    <tr>\n",
       "      <th>6</th>\n",
       "      <td>tell me some stuff about you</td>\n",
       "      <td>NaN</td>\n",
       "    </tr>\n",
       "    <tr>\n",
       "      <th>7</th>\n",
       "      <td>talk some stuff about you</td>\n",
       "      <td>NaN</td>\n",
       "    </tr>\n",
       "    <tr>\n",
       "      <th>8</th>\n",
       "      <td>talk about yourself</td>\n",
       "      <td>NaN</td>\n",
       "    </tr>\n",
       "    <tr>\n",
       "      <th>9</th>\n",
       "      <td>about yourself</td>\n",
       "      <td>NaN</td>\n",
       "    </tr>\n",
       "    <tr>\n",
       "      <th>10</th>\n",
       "      <td>who are you</td>\n",
       "      <td>NaN</td>\n",
       "    </tr>\n",
       "    <tr>\n",
       "      <th>11</th>\n",
       "      <td>introduce yourself</td>\n",
       "      <td>NaN</td>\n",
       "    </tr>\n",
       "    <tr>\n",
       "      <th>12</th>\n",
       "      <td>I want to know more about you</td>\n",
       "      <td>NaN</td>\n",
       "    </tr>\n",
       "    <tr>\n",
       "      <th>13</th>\n",
       "      <td>what are you</td>\n",
       "      <td>NaN</td>\n",
       "    </tr>\n",
       "    <tr>\n",
       "      <th>14</th>\n",
       "      <td>what is your personality</td>\n",
       "      <td>NaN</td>\n",
       "    </tr>\n",
       "    <tr>\n",
       "      <th>15</th>\n",
       "      <td>say about you</td>\n",
       "      <td>NaN</td>\n",
       "    </tr>\n",
       "    <tr>\n",
       "      <th>16</th>\n",
       "      <td>tell me about you</td>\n",
       "      <td>NaN</td>\n",
       "    </tr>\n",
       "    <tr>\n",
       "      <th>17</th>\n",
       "      <td>why are you here</td>\n",
       "      <td>NaN</td>\n",
       "    </tr>\n",
       "    <tr>\n",
       "      <th>18</th>\n",
       "      <td>NaN</td>\n",
       "      <td>NaN</td>\n",
       "    </tr>\n",
       "    <tr>\n",
       "      <th>19</th>\n",
       "      <td>are you 21 years old</td>\n",
       "      <td>I'm a relatively new bot, but I'm wise beyond ...</td>\n",
       "    </tr>\n",
       "  </tbody>\n",
       "</table>\n",
       "</div>"
      ],
      "text/plain": [
       "                           Context  \\\n",
       "0   Tell me about your personality   \n",
       "1        I want to know you better   \n",
       "2                  Define yourself   \n",
       "3                Describe yourself   \n",
       "4           tell me about yourself   \n",
       "5                    all about you   \n",
       "6     tell me some stuff about you   \n",
       "7        talk some stuff about you   \n",
       "8              talk about yourself   \n",
       "9                   about yourself   \n",
       "10                     who are you   \n",
       "11              introduce yourself   \n",
       "12   I want to know more about you   \n",
       "13                    what are you   \n",
       "14        what is your personality   \n",
       "15                   say about you   \n",
       "16               tell me about you   \n",
       "17                why are you here   \n",
       "18                             NaN   \n",
       "19            are you 21 years old   \n",
       "\n",
       "                                        Text Response  \n",
       "0         Just think of me as the ace up your sleeve.  \n",
       "1       I can help you work smarter instead of harder  \n",
       "2                                                 NaN  \n",
       "3                                                 NaN  \n",
       "4                                                 NaN  \n",
       "5                                                 NaN  \n",
       "6                                                 NaN  \n",
       "7                                                 NaN  \n",
       "8                                                 NaN  \n",
       "9                                                 NaN  \n",
       "10                                                NaN  \n",
       "11                                                NaN  \n",
       "12                                                NaN  \n",
       "13                                                NaN  \n",
       "14                                                NaN  \n",
       "15                                                NaN  \n",
       "16                                                NaN  \n",
       "17                                                NaN  \n",
       "18                                                NaN  \n",
       "19  I'm a relatively new bot, but I'm wise beyond ...  "
      ]
     },
     "execution_count": 2,
     "metadata": {},
     "output_type": "execute_result"
    }
   ],
   "source": [
    "df=pd.read_excel(\"C:\\\\Users\\\\rlong\\\\Downloads\\\\dialog_talk_agent.xlsx\")\n",
    "df.head(20)"
   ]
  },
  {
   "cell_type": "code",
   "execution_count": 3,
   "id": "7a843fcb-96dd-4c76-ae92-0bc182352ab2",
   "metadata": {},
   "outputs": [
    {
     "data": {
      "text/plain": [
       "1592"
      ]
     },
     "execution_count": 3,
     "metadata": {},
     "output_type": "execute_result"
    }
   ],
   "source": [
    "df.shape[0] # returns the number of rows in dataset"
   ]
  },
  {
   "cell_type": "code",
   "execution_count": 4,
   "id": "28994840-b602-4127-beba-b3c795bc5067",
   "metadata": {},
   "outputs": [
    {
     "data": {
      "text/html": [
       "<div>\n",
       "<style scoped>\n",
       "    .dataframe tbody tr th:only-of-type {\n",
       "        vertical-align: middle;\n",
       "    }\n",
       "\n",
       "    .dataframe tbody tr th {\n",
       "        vertical-align: top;\n",
       "    }\n",
       "\n",
       "    .dataframe thead th {\n",
       "        text-align: right;\n",
       "    }\n",
       "</style>\n",
       "<table border=\"1\" class=\"dataframe\">\n",
       "  <thead>\n",
       "    <tr style=\"text-align: right;\">\n",
       "      <th></th>\n",
       "      <th>Context</th>\n",
       "      <th>Text Response</th>\n",
       "    </tr>\n",
       "  </thead>\n",
       "  <tbody>\n",
       "    <tr>\n",
       "      <th>0</th>\n",
       "      <td>Tell me about your personality</td>\n",
       "      <td>Just think of me as the ace up your sleeve.</td>\n",
       "    </tr>\n",
       "    <tr>\n",
       "      <th>1</th>\n",
       "      <td>I want to know you better</td>\n",
       "      <td>I can help you work smarter instead of harder</td>\n",
       "    </tr>\n",
       "    <tr>\n",
       "      <th>2</th>\n",
       "      <td>Define yourself</td>\n",
       "      <td>I can help you work smarter instead of harder</td>\n",
       "    </tr>\n",
       "    <tr>\n",
       "      <th>3</th>\n",
       "      <td>Describe yourself</td>\n",
       "      <td>I can help you work smarter instead of harder</td>\n",
       "    </tr>\n",
       "    <tr>\n",
       "      <th>4</th>\n",
       "      <td>tell me about yourself</td>\n",
       "      <td>I can help you work smarter instead of harder</td>\n",
       "    </tr>\n",
       "    <tr>\n",
       "      <th>...</th>\n",
       "      <td>...</td>\n",
       "      <td>...</td>\n",
       "    </tr>\n",
       "    <tr>\n",
       "      <th>1587</th>\n",
       "      <td>can we chat</td>\n",
       "      <td>Talking is what I do best.</td>\n",
       "    </tr>\n",
       "    <tr>\n",
       "      <th>1588</th>\n",
       "      <td>I'll be back in a few minutes</td>\n",
       "      <td>I'll be waiting.</td>\n",
       "    </tr>\n",
       "    <tr>\n",
       "      <th>1589</th>\n",
       "      <td>I'll be back</td>\n",
       "      <td>All right. I'll be here.</td>\n",
       "    </tr>\n",
       "    <tr>\n",
       "      <th>1590</th>\n",
       "      <td>I'll get back to you in a moment</td>\n",
       "      <td>Till next time.</td>\n",
       "    </tr>\n",
       "    <tr>\n",
       "      <th>1591</th>\n",
       "      <td>I promise to come back</td>\n",
       "      <td>Okay. You know where to find me.</td>\n",
       "    </tr>\n",
       "  </tbody>\n",
       "</table>\n",
       "<p>1592 rows × 2 columns</p>\n",
       "</div>"
      ],
      "text/plain": [
       "                               Context  \\\n",
       "0       Tell me about your personality   \n",
       "1            I want to know you better   \n",
       "2                      Define yourself   \n",
       "3                    Describe yourself   \n",
       "4               tell me about yourself   \n",
       "...                                ...   \n",
       "1587                       can we chat   \n",
       "1588     I'll be back in a few minutes   \n",
       "1589                      I'll be back   \n",
       "1590  I'll get back to you in a moment   \n",
       "1591            I promise to come back   \n",
       "\n",
       "                                      Text Response  \n",
       "0       Just think of me as the ace up your sleeve.  \n",
       "1     I can help you work smarter instead of harder  \n",
       "2     I can help you work smarter instead of harder  \n",
       "3     I can help you work smarter instead of harder  \n",
       "4     I can help you work smarter instead of harder  \n",
       "...                                             ...  \n",
       "1587                     Talking is what I do best.  \n",
       "1588                               I'll be waiting.  \n",
       "1589                       All right. I'll be here.  \n",
       "1590                                Till next time.  \n",
       "1591               Okay. You know where to find me.  \n",
       "\n",
       "[1592 rows x 2 columns]"
      ]
     },
     "execution_count": 4,
     "metadata": {},
     "output_type": "execute_result"
    }
   ],
   "source": [
    "df.ffill(axis = 0,inplace=True) # fills the null value with the previous value.\n",
    "df"
   ]
  },
  {
   "cell_type": "code",
   "execution_count": 5,
   "id": "b2b63a24-f07e-4d6c-b191-798ad85ab079",
   "metadata": {},
   "outputs": [],
   "source": [
    "df1=df.head(10) # copy of first ten rows of dataset"
   ]
  },
  {
   "cell_type": "code",
   "execution_count": 6,
   "id": "a5664438-3e1a-4c80-ac63-068b916247a9",
   "metadata": {},
   "outputs": [],
   "source": [
    "\n",
    "\n",
    "# function that converts text into lower case and removes special characters\n",
    "\n",
    "def step1(x):\n",
    "    for i in x:\n",
    "        a=str(i).lower()\n",
    "        p=re.sub(r'[^a-z0-9]',' ',a)\n",
    "        print(p)\n",
    "\n"
   ]
  },
  {
   "cell_type": "code",
   "execution_count": 7,
   "id": "74c9b065-0f4b-4bdc-acb6-1a4eed001fec",
   "metadata": {},
   "outputs": [
    {
     "name": "stdout",
     "output_type": "stream",
     "text": [
      "tell me about your personality\n",
      "i want to know you better\n",
      "define yourself\n",
      "describe yourself\n",
      "tell me about yourself\n",
      "all about you\n",
      "tell me some stuff about you\n",
      "talk some stuff about you\n",
      "talk about yourself\n",
      "about yourself\n"
     ]
    }
   ],
   "source": [
    "step1(df1['Context'])"
   ]
  },
  {
   "cell_type": "code",
   "execution_count": 8,
   "id": "5a6e791d-9c33-4206-8582-d5a3f6eaee26",
   "metadata": {},
   "outputs": [
    {
     "name": "stdout",
     "output_type": "stream",
     "text": [
      "['tell', 'me', 'about', 'your', 'personality']\n"
     ]
    }
   ],
   "source": [
    " # word tokenizing\n",
    "    \n",
    "s='tell me about your personality'\n",
    "words=word_tokenize(s)\n",
    "print(words)\n"
   ]
  },
  {
   "cell_type": "code",
   "execution_count": 9,
   "id": "53ca8923-92b7-4c75-a0a0-e18b6ddda92e",
   "metadata": {},
   "outputs": [
    {
     "data": {
      "text/plain": [
       "'absorb'"
      ]
     },
     "execution_count": 9,
     "metadata": {},
     "output_type": "execute_result"
    }
   ],
   "source": [
    "lemma = wordnet.WordNetLemmatizer() # intializing lemmatizer\n",
    "lemma.lemmatize('absorbed', pos = 'v')"
   ]
  },
  {
   "cell_type": "code",
   "execution_count": 10,
   "id": "66fd4808-a9d4-4f18-b737-1599a0d3f73a",
   "metadata": {},
   "outputs": [
    {
     "data": {
      "text/plain": [
       "[('tell', 'VB'),\n",
       " ('me', 'PRP'),\n",
       " ('about', 'IN'),\n",
       " ('your', 'PRP$'),\n",
       " ('personality', 'NN')]"
      ]
     },
     "execution_count": 10,
     "metadata": {},
     "output_type": "execute_result"
    }
   ],
   "source": [
    "pos_tag(nltk.word_tokenize(s),tagset = None) # returns the parts of speech of every word\n"
   ]
  },
  {
   "cell_type": "code",
   "execution_count": 11,
   "id": "55920de0-05f9-4371-8631-218453f5b095",
   "metadata": {},
   "outputs": [],
   "source": [
    "# function that performs text normalization steps\n",
    "\n",
    "def text_normalization(text):\n",
    "    text=str(text).lower() # text to lower case\n",
    "    spl_char_text=re.sub(r'[^ a-z]','',text) # removing special characters\n",
    "    tokens=nltk.word_tokenize(spl_char_text) # word tokenizing\n",
    "    lema=wordnet.WordNetLemmatizer() # intializing lemmatization\n",
    "    tags_list=pos_tag(tokens,tagset=None) # parts of speech\n",
    "    lema_words=[]   # empty list \n",
    "    for token,pos_token in tags_list:\n",
    "        if pos_token.startswith('V'):  # Verb\n",
    "            pos_val='v'\n",
    "        elif pos_token.startswith('J'): # Adjective\n",
    "            pos_val='a'\n",
    "        elif pos_token.startswith('R'): # Adverb\n",
    "            pos_val='r'\n",
    "        else:\n",
    "            pos_val='n' # Noun\n",
    "        lema_token=lema.lemmatize(token,pos_val) # performing lemmatization\n",
    "        lema_words.append(lema_token) # appending the lemmatized token into a list\n",
    "    \n",
    "    return \" \".join(lema_words) # returns the lemmatized tokens as a sentence "
   ]
  },
  {
   "cell_type": "code",
   "execution_count": 12,
   "id": "6d83b93a-50a2-49ea-8b74-8dbf48c73ba9",
   "metadata": {},
   "outputs": [
    {
     "data": {
      "text/plain": [
       "'tell you some stuff about me'"
      ]
     },
     "execution_count": 12,
     "metadata": {},
     "output_type": "execute_result"
    }
   ],
   "source": [
    "text_normalization('telling you some stuff about me')\n"
   ]
  },
  {
   "cell_type": "code",
   "execution_count": 13,
   "id": "9b612536-47c6-4dcf-878d-95d783d36744",
   "metadata": {},
   "outputs": [
    {
     "data": {
      "text/html": [
       "<div>\n",
       "<style scoped>\n",
       "    .dataframe tbody tr th:only-of-type {\n",
       "        vertical-align: middle;\n",
       "    }\n",
       "\n",
       "    .dataframe tbody tr th {\n",
       "        vertical-align: top;\n",
       "    }\n",
       "\n",
       "    .dataframe thead th {\n",
       "        text-align: right;\n",
       "    }\n",
       "</style>\n",
       "<table border=\"1\" class=\"dataframe\">\n",
       "  <thead>\n",
       "    <tr style=\"text-align: right;\">\n",
       "      <th></th>\n",
       "      <th>Context</th>\n",
       "      <th>Text Response</th>\n",
       "      <th>lemmatized_text</th>\n",
       "    </tr>\n",
       "  </thead>\n",
       "  <tbody>\n",
       "    <tr>\n",
       "      <th>1577</th>\n",
       "      <td>I need to talk to you</td>\n",
       "      <td>Good conversation really makes my day.</td>\n",
       "      <td>i need to talk to you</td>\n",
       "    </tr>\n",
       "    <tr>\n",
       "      <th>1578</th>\n",
       "      <td>I want to speak with you</td>\n",
       "      <td>I'm always here to lend an ear.</td>\n",
       "      <td>i want to speak with you</td>\n",
       "    </tr>\n",
       "    <tr>\n",
       "      <th>1579</th>\n",
       "      <td>let's have a discussion</td>\n",
       "      <td>Talking is what I do best.</td>\n",
       "      <td>let have a discussion</td>\n",
       "    </tr>\n",
       "    <tr>\n",
       "      <th>1580</th>\n",
       "      <td>I just want to talk</td>\n",
       "      <td>Talking is what I do best.</td>\n",
       "      <td>i just want to talk</td>\n",
       "    </tr>\n",
       "    <tr>\n",
       "      <th>1581</th>\n",
       "      <td>let's discuss something</td>\n",
       "      <td>Talking is what I do best.</td>\n",
       "      <td>let discuss something</td>\n",
       "    </tr>\n",
       "    <tr>\n",
       "      <th>1582</th>\n",
       "      <td>can I speak</td>\n",
       "      <td>Talking is what I do best.</td>\n",
       "      <td>can i speak</td>\n",
       "    </tr>\n",
       "    <tr>\n",
       "      <th>1583</th>\n",
       "      <td>can we talk</td>\n",
       "      <td>Talking is what I do best.</td>\n",
       "      <td>can we talk</td>\n",
       "    </tr>\n",
       "    <tr>\n",
       "      <th>1584</th>\n",
       "      <td>let's talk</td>\n",
       "      <td>Talking is what I do best.</td>\n",
       "      <td>let talk</td>\n",
       "    </tr>\n",
       "    <tr>\n",
       "      <th>1585</th>\n",
       "      <td>I want to talk to you</td>\n",
       "      <td>Talking is what I do best.</td>\n",
       "      <td>i want to talk to you</td>\n",
       "    </tr>\n",
       "    <tr>\n",
       "      <th>1586</th>\n",
       "      <td>can we chat</td>\n",
       "      <td>Talking is what I do best.</td>\n",
       "      <td>can we chat</td>\n",
       "    </tr>\n",
       "    <tr>\n",
       "      <th>1587</th>\n",
       "      <td>can we chat</td>\n",
       "      <td>Talking is what I do best.</td>\n",
       "      <td>can we chat</td>\n",
       "    </tr>\n",
       "    <tr>\n",
       "      <th>1588</th>\n",
       "      <td>I'll be back in a few minutes</td>\n",
       "      <td>I'll be waiting.</td>\n",
       "      <td>ill be back in a few minute</td>\n",
       "    </tr>\n",
       "    <tr>\n",
       "      <th>1589</th>\n",
       "      <td>I'll be back</td>\n",
       "      <td>All right. I'll be here.</td>\n",
       "      <td>ill be back</td>\n",
       "    </tr>\n",
       "    <tr>\n",
       "      <th>1590</th>\n",
       "      <td>I'll get back to you in a moment</td>\n",
       "      <td>Till next time.</td>\n",
       "      <td>ill get back to you in a moment</td>\n",
       "    </tr>\n",
       "    <tr>\n",
       "      <th>1591</th>\n",
       "      <td>I promise to come back</td>\n",
       "      <td>Okay. You know where to find me.</td>\n",
       "      <td>i promise to come back</td>\n",
       "    </tr>\n",
       "  </tbody>\n",
       "</table>\n",
       "</div>"
      ],
      "text/plain": [
       "                               Context  \\\n",
       "1577             I need to talk to you   \n",
       "1578          I want to speak with you   \n",
       "1579           let's have a discussion   \n",
       "1580               I just want to talk   \n",
       "1581           let's discuss something   \n",
       "1582                       can I speak   \n",
       "1583                       can we talk   \n",
       "1584                        let's talk   \n",
       "1585             I want to talk to you   \n",
       "1586                       can we chat   \n",
       "1587                       can we chat   \n",
       "1588     I'll be back in a few minutes   \n",
       "1589                      I'll be back   \n",
       "1590  I'll get back to you in a moment   \n",
       "1591            I promise to come back   \n",
       "\n",
       "                               Text Response                  lemmatized_text  \n",
       "1577  Good conversation really makes my day.            i need to talk to you  \n",
       "1578         I'm always here to lend an ear.         i want to speak with you  \n",
       "1579              Talking is what I do best.            let have a discussion  \n",
       "1580              Talking is what I do best.              i just want to talk  \n",
       "1581              Talking is what I do best.            let discuss something  \n",
       "1582              Talking is what I do best.                      can i speak  \n",
       "1583              Talking is what I do best.                      can we talk  \n",
       "1584              Talking is what I do best.                         let talk  \n",
       "1585              Talking is what I do best.            i want to talk to you  \n",
       "1586              Talking is what I do best.                      can we chat  \n",
       "1587              Talking is what I do best.                      can we chat  \n",
       "1588                        I'll be waiting.      ill be back in a few minute  \n",
       "1589                All right. I'll be here.                      ill be back  \n",
       "1590                         Till next time.  ill get back to you in a moment  \n",
       "1591        Okay. You know where to find me.           i promise to come back  "
      ]
     },
     "execution_count": 13,
     "metadata": {},
     "output_type": "execute_result"
    }
   ],
   "source": [
    "df['lemmatized_text']=df['Context'].apply(text_normalization) # applying the fuction to the dataset to get clean text\n",
    "df.tail(15)\n"
   ]
  },
  {
   "cell_type": "code",
   "execution_count": 14,
   "id": "24f76780-db1b-417d-8f39-5343b018f605",
   "metadata": {},
   "outputs": [
    {
     "name": "stdout",
     "output_type": "stream",
     "text": [
      "['i', 'me', 'my', 'myself', 'we', 'our', 'ours', 'ourselves', 'you', \"you're\", \"you've\", \"you'll\", \"you'd\", 'your', 'yours', 'yourself', 'yourselves', 'he', 'him', 'his', 'himself', 'she', \"she's\", 'her', 'hers', 'herself', 'it', \"it's\", 'its', 'itself', 'they', 'them', 'their', 'theirs', 'themselves', 'what', 'which', 'who', 'whom', 'this', 'that', \"that'll\", 'these', 'those', 'am', 'is', 'are', 'was', 'were', 'be', 'been', 'being', 'have', 'has', 'had', 'having', 'do', 'does', 'did', 'doing', 'a', 'an', 'the', 'and', 'but', 'if', 'or', 'because', 'as', 'until', 'while', 'of', 'at', 'by', 'for', 'with', 'about', 'against', 'between', 'into', 'through', 'during', 'before', 'after', 'above', 'below', 'to', 'from', 'up', 'down', 'in', 'out', 'on', 'off', 'over', 'under', 'again', 'further', 'then', 'once', 'here', 'there', 'when', 'where', 'why', 'how', 'all', 'any', 'both', 'each', 'few', 'more', 'most', 'other', 'some', 'such', 'no', 'nor', 'not', 'only', 'own', 'same', 'so', 'than', 'too', 'very', 's', 't', 'can', 'will', 'just', 'don', \"don't\", 'should', \"should've\", 'now', 'd', 'll', 'm', 'o', 're', 've', 'y', 'ain', 'aren', \"aren't\", 'couldn', \"couldn't\", 'didn', \"didn't\", 'doesn', \"doesn't\", 'hadn', \"hadn't\", 'hasn', \"hasn't\", 'haven', \"haven't\", 'isn', \"isn't\", 'ma', 'mightn', \"mightn't\", 'mustn', \"mustn't\", 'needn', \"needn't\", 'shan', \"shan't\", 'shouldn', \"shouldn't\", 'wasn', \"wasn't\", 'weren', \"weren't\", 'won', \"won't\", 'wouldn', \"wouldn't\"]\n"
     ]
    }
   ],
   "source": [
    "# all the stop words we have \n",
    "\n",
    "stop = stopwords.words('english')\n",
    "print(stop)\n"
   ]
  },
  {
   "cell_type": "markdown",
   "id": "37bdfe7c-0874-4883-b564-fa715fdf3efd",
   "metadata": {},
   "source": [
    "### Bag of Words"
   ]
  },
  {
   "cell_type": "code",
   "execution_count": 15,
   "id": "d6fb051a-3db8-4072-bd68-907f0cbb08af",
   "metadata": {},
   "outputs": [],
   "source": [
    "cv = CountVectorizer() # intializing the count vectorizer\n",
    "X = cv.fit_transform(df['lemmatized_text']).toarray()"
   ]
  },
  {
   "cell_type": "code",
   "execution_count": 24,
   "id": "392459c5-bd02-443b-a930-d534babe7014",
   "metadata": {},
   "outputs": [],
   "source": [
    "# checking for stop words\n",
    "\n",
    "Q=[]\n",
    "a=Question.split()\n",
    "for i in a:\n",
    "    if i in stop:\n",
    "        continue\n",
    "    else:\n",
    "        Q.append(i)\n",
    "    b=\" \".join(Q) "
   ]
  },
  {
   "cell_type": "code",
   "execution_count": 21,
   "id": "1432799c-8efc-4435-ab02-d608fd1bbd7f",
   "metadata": {},
   "outputs": [
    {
     "name": "stderr",
     "output_type": "stream",
     "text": [
      "C:\\Users\\rlong\\anaconda3\\lib\\site-packages\\sklearn\\utils\\deprecation.py:87: FutureWarning: Function get_feature_names is deprecated; get_feature_names is deprecated in 1.0 and will be removed in 1.2. Please use get_feature_names_out instead.\n",
      "  warnings.warn(msg, category=FutureWarning)\n"
     ]
    },
    {
     "data": {
      "text/html": [
       "<div>\n",
       "<style scoped>\n",
       "    .dataframe tbody tr th:only-of-type {\n",
       "        vertical-align: middle;\n",
       "    }\n",
       "\n",
       "    .dataframe tbody tr th {\n",
       "        vertical-align: top;\n",
       "    }\n",
       "\n",
       "    .dataframe thead th {\n",
       "        text-align: right;\n",
       "    }\n",
       "</style>\n",
       "<table border=\"1\" class=\"dataframe\">\n",
       "  <thead>\n",
       "    <tr style=\"text-align: right;\">\n",
       "      <th></th>\n",
       "      <th>abort</th>\n",
       "      <th>about</th>\n",
       "      <th>absolutely</th>\n",
       "      <th>abysmal</th>\n",
       "      <th>actually</th>\n",
       "      <th>adore</th>\n",
       "      <th>advice</th>\n",
       "      <th>advise</th>\n",
       "      <th>affirmative</th>\n",
       "      <th>afraid</th>\n",
       "      <th>...</th>\n",
       "      <th>yeh</th>\n",
       "      <th>yep</th>\n",
       "      <th>yes</th>\n",
       "      <th>yet</th>\n",
       "      <th>you</th>\n",
       "      <th>your</th>\n",
       "      <th>youre</th>\n",
       "      <th>yours</th>\n",
       "      <th>yourself</th>\n",
       "      <th>yup</th>\n",
       "    </tr>\n",
       "  </thead>\n",
       "  <tbody>\n",
       "    <tr>\n",
       "      <th>0</th>\n",
       "      <td>0</td>\n",
       "      <td>1</td>\n",
       "      <td>0</td>\n",
       "      <td>0</td>\n",
       "      <td>0</td>\n",
       "      <td>0</td>\n",
       "      <td>0</td>\n",
       "      <td>0</td>\n",
       "      <td>0</td>\n",
       "      <td>0</td>\n",
       "      <td>...</td>\n",
       "      <td>0</td>\n",
       "      <td>0</td>\n",
       "      <td>0</td>\n",
       "      <td>0</td>\n",
       "      <td>0</td>\n",
       "      <td>1</td>\n",
       "      <td>0</td>\n",
       "      <td>0</td>\n",
       "      <td>0</td>\n",
       "      <td>0</td>\n",
       "    </tr>\n",
       "    <tr>\n",
       "      <th>1</th>\n",
       "      <td>0</td>\n",
       "      <td>0</td>\n",
       "      <td>0</td>\n",
       "      <td>0</td>\n",
       "      <td>0</td>\n",
       "      <td>0</td>\n",
       "      <td>0</td>\n",
       "      <td>0</td>\n",
       "      <td>0</td>\n",
       "      <td>0</td>\n",
       "      <td>...</td>\n",
       "      <td>0</td>\n",
       "      <td>0</td>\n",
       "      <td>0</td>\n",
       "      <td>0</td>\n",
       "      <td>1</td>\n",
       "      <td>0</td>\n",
       "      <td>0</td>\n",
       "      <td>0</td>\n",
       "      <td>0</td>\n",
       "      <td>0</td>\n",
       "    </tr>\n",
       "    <tr>\n",
       "      <th>2</th>\n",
       "      <td>0</td>\n",
       "      <td>0</td>\n",
       "      <td>0</td>\n",
       "      <td>0</td>\n",
       "      <td>0</td>\n",
       "      <td>0</td>\n",
       "      <td>0</td>\n",
       "      <td>0</td>\n",
       "      <td>0</td>\n",
       "      <td>0</td>\n",
       "      <td>...</td>\n",
       "      <td>0</td>\n",
       "      <td>0</td>\n",
       "      <td>0</td>\n",
       "      <td>0</td>\n",
       "      <td>0</td>\n",
       "      <td>0</td>\n",
       "      <td>0</td>\n",
       "      <td>0</td>\n",
       "      <td>1</td>\n",
       "      <td>0</td>\n",
       "    </tr>\n",
       "    <tr>\n",
       "      <th>3</th>\n",
       "      <td>0</td>\n",
       "      <td>0</td>\n",
       "      <td>0</td>\n",
       "      <td>0</td>\n",
       "      <td>0</td>\n",
       "      <td>0</td>\n",
       "      <td>0</td>\n",
       "      <td>0</td>\n",
       "      <td>0</td>\n",
       "      <td>0</td>\n",
       "      <td>...</td>\n",
       "      <td>0</td>\n",
       "      <td>0</td>\n",
       "      <td>0</td>\n",
       "      <td>0</td>\n",
       "      <td>0</td>\n",
       "      <td>0</td>\n",
       "      <td>0</td>\n",
       "      <td>0</td>\n",
       "      <td>1</td>\n",
       "      <td>0</td>\n",
       "    </tr>\n",
       "    <tr>\n",
       "      <th>4</th>\n",
       "      <td>0</td>\n",
       "      <td>1</td>\n",
       "      <td>0</td>\n",
       "      <td>0</td>\n",
       "      <td>0</td>\n",
       "      <td>0</td>\n",
       "      <td>0</td>\n",
       "      <td>0</td>\n",
       "      <td>0</td>\n",
       "      <td>0</td>\n",
       "      <td>...</td>\n",
       "      <td>0</td>\n",
       "      <td>0</td>\n",
       "      <td>0</td>\n",
       "      <td>0</td>\n",
       "      <td>0</td>\n",
       "      <td>0</td>\n",
       "      <td>0</td>\n",
       "      <td>0</td>\n",
       "      <td>1</td>\n",
       "      <td>0</td>\n",
       "    </tr>\n",
       "  </tbody>\n",
       "</table>\n",
       "<p>5 rows × 505 columns</p>\n",
       "</div>"
      ],
      "text/plain": [
       "   abort  about  absolutely  abysmal  actually  adore  advice  advise  \\\n",
       "0      0      1           0        0         0      0       0       0   \n",
       "1      0      0           0        0         0      0       0       0   \n",
       "2      0      0           0        0         0      0       0       0   \n",
       "3      0      0           0        0         0      0       0       0   \n",
       "4      0      1           0        0         0      0       0       0   \n",
       "\n",
       "   affirmative  afraid  ...  yeh  yep  yes  yet  you  your  youre  yours  \\\n",
       "0            0       0  ...    0    0    0    0    0     1      0      0   \n",
       "1            0       0  ...    0    0    0    0    1     0      0      0   \n",
       "2            0       0  ...    0    0    0    0    0     0      0      0   \n",
       "3            0       0  ...    0    0    0    0    0     0      0      0   \n",
       "4            0       0  ...    0    0    0    0    0     0      0      0   \n",
       "\n",
       "   yourself  yup  \n",
       "0         0    0  \n",
       "1         0    0  \n",
       "2         1    0  \n",
       "3         1    0  \n",
       "4         1    0  \n",
       "\n",
       "[5 rows x 505 columns]"
      ]
     },
     "execution_count": 21,
     "metadata": {},
     "output_type": "execute_result"
    }
   ],
   "source": [
    "# returns all the unique word from data \n",
    "\n",
    "features = cv.get_feature_names()\n",
    "df_bow = pd.DataFrame(X, columns = features)\n",
    "df_bow.head()"
   ]
  },
  {
   "cell_type": "code",
   "execution_count": 22,
   "id": "cb25108b-63f0-46a4-94d5-46689302e6fc",
   "metadata": {},
   "outputs": [],
   "source": [
    "Question ='Will you help me and tell me about yourself more' # considering an example query\n"
   ]
  },
  {
   "cell_type": "code",
   "execution_count": 25,
   "id": "19a6fb49-560d-4662-878c-fe602c2c1948",
   "metadata": {},
   "outputs": [],
   "source": [
    "Question_lemma = text_normalization(b) # applying the function that we created for text normalizing\n",
    "Question_bow = cv.transform([Question_lemma]).toarray() # applying bow"
   ]
  },
  {
   "cell_type": "code",
   "execution_count": 26,
   "id": "6d97151a-2bcf-4515-8284-95a3be4ca1ad",
   "metadata": {},
   "outputs": [
    {
     "data": {
      "text/plain": [
       "<function __main__.text_normalization(text)>"
      ]
     },
     "execution_count": 26,
     "metadata": {},
     "output_type": "execute_result"
    }
   ],
   "source": [
    "text_normalization"
   ]
  },
  {
   "cell_type": "code",
   "execution_count": 27,
   "id": "c1333c87-b600-48ea-b795-78f47233cef8",
   "metadata": {},
   "outputs": [
    {
     "data": {
      "text/plain": [
       "array([[0, 0, 0, 0, 0, 0, 0, 0, 0, 0, 0, 0, 0, 0, 0, 0, 0, 0, 0, 0, 0, 0,\n",
       "        0, 0, 0, 0, 0, 0, 0, 0, 0, 0, 0, 0, 0, 0, 0, 0, 0, 0, 0, 0, 0, 0,\n",
       "        0, 0, 0, 0, 0, 0, 0, 0, 0, 0, 0, 0, 0, 0, 0, 0, 0, 0, 0, 0, 0, 0,\n",
       "        0, 0, 0, 0, 0, 0, 0, 0, 0, 0, 0, 0, 0, 0, 0, 0, 0, 0, 0, 0, 0, 0,\n",
       "        0, 0, 0, 0, 0, 0, 0, 0, 0, 0, 0, 0, 0, 0, 0, 0, 0, 0, 0, 0, 0, 0,\n",
       "        0, 0, 0, 0, 0, 0, 0, 0, 0, 0, 0, 0, 0, 0, 0, 0, 0, 0, 0, 0, 0, 0,\n",
       "        0, 0, 0, 0, 0, 0, 0, 0, 0, 0, 0, 0, 0, 0, 0, 0, 0, 0, 0, 0, 0, 0,\n",
       "        0, 0, 0, 0, 0, 0, 0, 0, 0, 0, 0, 0, 0, 0, 0, 0, 0, 0, 0, 0, 0, 0,\n",
       "        0, 0, 0, 0, 0, 0, 0, 0, 0, 0, 0, 0, 0, 0, 0, 0, 0, 0, 0, 0, 0, 0,\n",
       "        0, 0, 0, 1, 0, 0, 0, 0, 0, 0, 0, 0, 0, 0, 0, 0, 0, 0, 0, 0, 0, 0,\n",
       "        0, 0, 0, 0, 0, 0, 0, 0, 0, 0, 0, 0, 0, 0, 0, 0, 0, 0, 0, 0, 0, 0,\n",
       "        0, 0, 0, 0, 0, 0, 0, 0, 0, 0, 0, 0, 0, 0, 0, 0, 0, 0, 0, 0, 0, 0,\n",
       "        0, 0, 0, 0, 0, 0, 0, 0, 0, 0, 0, 0, 0, 0, 0, 0, 0, 0, 0, 0, 0, 0,\n",
       "        0, 0, 0, 0, 0, 0, 0, 0, 0, 0, 0, 0, 0, 0, 0, 0, 0, 0, 0, 0, 0, 0,\n",
       "        0, 0, 0, 0, 0, 0, 0, 0, 0, 0, 0, 0, 0, 0, 0, 0, 0, 0, 0, 0, 0, 0,\n",
       "        0, 0, 0, 0, 0, 0, 0, 0, 0, 0, 0, 0, 0, 0, 0, 0, 0, 0, 0, 0, 0, 0,\n",
       "        0, 0, 0, 0, 0, 0, 0, 0, 0, 0, 0, 0, 0, 0, 0, 0, 0, 0, 0, 0, 0, 0,\n",
       "        0, 0, 0, 0, 0, 0, 0, 0, 0, 0, 0, 0, 0, 0, 0, 0, 0, 0, 0, 0, 0, 0,\n",
       "        0, 0, 0, 0, 0, 0, 0, 0, 0, 0, 0, 0, 1, 0, 0, 0, 0, 0, 0, 0, 0, 0,\n",
       "        0, 0, 0, 0, 0, 0, 0, 0, 0, 0, 0, 0, 0, 0, 0, 0, 0, 0, 0, 0, 0, 0,\n",
       "        0, 0, 0, 0, 0, 0, 0, 0, 0, 0, 0, 0, 0, 0, 0, 0, 0, 0, 0, 0, 0, 0,\n",
       "        0, 0, 0, 0, 0, 0, 0, 0, 0, 0, 0, 0, 0, 1, 0, 0, 0, 0, 0, 0, 0, 0,\n",
       "        0, 0, 0, 0, 0, 0, 0, 0, 0, 0, 0, 0, 0, 0, 0, 0, 0, 0, 0, 0, 0]],\n",
       "      dtype=int64)"
      ]
     },
     "execution_count": 27,
     "metadata": {},
     "output_type": "execute_result"
    }
   ],
   "source": [
    "Question_bow"
   ]
  },
  {
   "cell_type": "code",
   "execution_count": 28,
   "id": "4784f120-8dc9-4ef8-a6f8-2f48a93ac963",
   "metadata": {},
   "outputs": [
    {
     "data": {
      "text/plain": [
       "array([[0.25819889],\n",
       "       [0.        ],\n",
       "       [0.        ],\n",
       "       ...,\n",
       "       [0.        ],\n",
       "       [0.        ],\n",
       "       [0.        ]])"
      ]
     },
     "execution_count": 28,
     "metadata": {},
     "output_type": "execute_result"
    }
   ],
   "source": [
    "# cosine similarity for the above question we considered.\n",
    "\n",
    "cosine_value = 1- pairwise_distances(df_bow, Question_bow, metric = 'cosine' )\n",
    "(cosine_value)\n"
   ]
  },
  {
   "cell_type": "code",
   "execution_count": 29,
   "id": "647b3192-b920-482b-b2f5-e31d605e8c2a",
   "metadata": {},
   "outputs": [],
   "source": [
    "df['similarity_bow']=cosine_value # creating a new column "
   ]
  },
  {
   "cell_type": "code",
   "execution_count": 30,
   "id": "32763d67-9603-4f34-bc01-1fa16259c835",
   "metadata": {},
   "outputs": [
    {
     "data": {
      "text/html": [
       "<div>\n",
       "<style scoped>\n",
       "    .dataframe tbody tr th:only-of-type {\n",
       "        vertical-align: middle;\n",
       "    }\n",
       "\n",
       "    .dataframe tbody tr th {\n",
       "        vertical-align: top;\n",
       "    }\n",
       "\n",
       "    .dataframe thead th {\n",
       "        text-align: right;\n",
       "    }\n",
       "</style>\n",
       "<table border=\"1\" class=\"dataframe\">\n",
       "  <thead>\n",
       "    <tr style=\"text-align: right;\">\n",
       "      <th></th>\n",
       "      <th>Text Response</th>\n",
       "      <th>similarity_bow</th>\n",
       "    </tr>\n",
       "  </thead>\n",
       "  <tbody>\n",
       "    <tr>\n",
       "      <th>0</th>\n",
       "      <td>Just think of me as the ace up your sleeve.</td>\n",
       "      <td>0.258199</td>\n",
       "    </tr>\n",
       "    <tr>\n",
       "      <th>1</th>\n",
       "      <td>I can help you work smarter instead of harder</td>\n",
       "      <td>0.000000</td>\n",
       "    </tr>\n",
       "    <tr>\n",
       "      <th>2</th>\n",
       "      <td>I can help you work smarter instead of harder</td>\n",
       "      <td>0.000000</td>\n",
       "    </tr>\n",
       "    <tr>\n",
       "      <th>3</th>\n",
       "      <td>I can help you work smarter instead of harder</td>\n",
       "      <td>0.000000</td>\n",
       "    </tr>\n",
       "    <tr>\n",
       "      <th>4</th>\n",
       "      <td>I can help you work smarter instead of harder</td>\n",
       "      <td>0.288675</td>\n",
       "    </tr>\n",
       "    <tr>\n",
       "      <th>...</th>\n",
       "      <td>...</td>\n",
       "      <td>...</td>\n",
       "    </tr>\n",
       "    <tr>\n",
       "      <th>1587</th>\n",
       "      <td>Talking is what I do best.</td>\n",
       "      <td>0.000000</td>\n",
       "    </tr>\n",
       "    <tr>\n",
       "      <th>1588</th>\n",
       "      <td>I'll be waiting.</td>\n",
       "      <td>0.000000</td>\n",
       "    </tr>\n",
       "    <tr>\n",
       "      <th>1589</th>\n",
       "      <td>All right. I'll be here.</td>\n",
       "      <td>0.000000</td>\n",
       "    </tr>\n",
       "    <tr>\n",
       "      <th>1590</th>\n",
       "      <td>Till next time.</td>\n",
       "      <td>0.000000</td>\n",
       "    </tr>\n",
       "    <tr>\n",
       "      <th>1591</th>\n",
       "      <td>Okay. You know where to find me.</td>\n",
       "      <td>0.000000</td>\n",
       "    </tr>\n",
       "  </tbody>\n",
       "</table>\n",
       "<p>1592 rows × 2 columns</p>\n",
       "</div>"
      ],
      "text/plain": [
       "                                      Text Response  similarity_bow\n",
       "0       Just think of me as the ace up your sleeve.        0.258199\n",
       "1     I can help you work smarter instead of harder        0.000000\n",
       "2     I can help you work smarter instead of harder        0.000000\n",
       "3     I can help you work smarter instead of harder        0.000000\n",
       "4     I can help you work smarter instead of harder        0.288675\n",
       "...                                             ...             ...\n",
       "1587                     Talking is what I do best.        0.000000\n",
       "1588                               I'll be waiting.        0.000000\n",
       "1589                       All right. I'll be here.        0.000000\n",
       "1590                                Till next time.        0.000000\n",
       "1591               Okay. You know where to find me.        0.000000\n",
       "\n",
       "[1592 rows x 2 columns]"
      ]
     },
     "execution_count": 30,
     "metadata": {},
     "output_type": "execute_result"
    }
   ],
   "source": [
    "df_simi = pd.DataFrame(df, columns=['Text Response','similarity_bow']) # taking similarity value of responses for the question we took\n",
    "df_simi "
   ]
  },
  {
   "cell_type": "code",
   "execution_count": 31,
   "id": "dadec5e0-6e53-4ea5-b5be-ebf4c928568c",
   "metadata": {},
   "outputs": [
    {
     "data": {
      "text/html": [
       "<div>\n",
       "<style scoped>\n",
       "    .dataframe tbody tr th:only-of-type {\n",
       "        vertical-align: middle;\n",
       "    }\n",
       "\n",
       "    .dataframe tbody tr th {\n",
       "        vertical-align: top;\n",
       "    }\n",
       "\n",
       "    .dataframe thead th {\n",
       "        text-align: right;\n",
       "    }\n",
       "</style>\n",
       "<table border=\"1\" class=\"dataframe\">\n",
       "  <thead>\n",
       "    <tr style=\"text-align: right;\">\n",
       "      <th></th>\n",
       "      <th>Text Response</th>\n",
       "      <th>similarity_bow</th>\n",
       "    </tr>\n",
       "  </thead>\n",
       "  <tbody>\n",
       "    <tr>\n",
       "      <th>211</th>\n",
       "      <td>I'm glad to help. What can I do for you?</td>\n",
       "      <td>0.577350</td>\n",
       "    </tr>\n",
       "    <tr>\n",
       "      <th>194</th>\n",
       "      <td>I'm glad to help. What can I do for you?</td>\n",
       "      <td>0.577350</td>\n",
       "    </tr>\n",
       "    <tr>\n",
       "      <th>184</th>\n",
       "      <td>I'm glad to help. What can I do for you?</td>\n",
       "      <td>0.408248</td>\n",
       "    </tr>\n",
       "    <tr>\n",
       "      <th>186</th>\n",
       "      <td>I'm glad to help. What can I do for you?</td>\n",
       "      <td>0.408248</td>\n",
       "    </tr>\n",
       "    <tr>\n",
       "      <th>200</th>\n",
       "      <td>I'm glad to help. What can I do for you?</td>\n",
       "      <td>0.408248</td>\n",
       "    </tr>\n",
       "  </tbody>\n",
       "</table>\n",
       "</div>"
      ],
      "text/plain": [
       "                                Text Response  similarity_bow\n",
       "211  I'm glad to help. What can I do for you?        0.577350\n",
       "194  I'm glad to help. What can I do for you?        0.577350\n",
       "184  I'm glad to help. What can I do for you?        0.408248\n",
       "186  I'm glad to help. What can I do for you?        0.408248\n",
       "200  I'm glad to help. What can I do for you?        0.408248"
      ]
     },
     "execution_count": 31,
     "metadata": {},
     "output_type": "execute_result"
    }
   ],
   "source": [
    "df_simi_sort = df_simi.sort_values(by='similarity_bow', ascending=False) # sorting the values\n",
    "df_simi_sort.head()"
   ]
  },
  {
   "cell_type": "code",
   "execution_count": 32,
   "id": "44f1f9b9-72c3-4529-a819-f80451bed164",
   "metadata": {},
   "outputs": [
    {
     "data": {
      "text/html": [
       "<div>\n",
       "<style scoped>\n",
       "    .dataframe tbody tr th:only-of-type {\n",
       "        vertical-align: middle;\n",
       "    }\n",
       "\n",
       "    .dataframe tbody tr th {\n",
       "        vertical-align: top;\n",
       "    }\n",
       "\n",
       "    .dataframe thead th {\n",
       "        text-align: right;\n",
       "    }\n",
       "</style>\n",
       "<table border=\"1\" class=\"dataframe\">\n",
       "  <thead>\n",
       "    <tr style=\"text-align: right;\">\n",
       "      <th></th>\n",
       "      <th>Text Response</th>\n",
       "      <th>similarity_bow</th>\n",
       "    </tr>\n",
       "  </thead>\n",
       "  <tbody>\n",
       "    <tr>\n",
       "      <th>211</th>\n",
       "      <td>I'm glad to help. What can I do for you?</td>\n",
       "      <td>0.577350</td>\n",
       "    </tr>\n",
       "    <tr>\n",
       "      <th>194</th>\n",
       "      <td>I'm glad to help. What can I do for you?</td>\n",
       "      <td>0.577350</td>\n",
       "    </tr>\n",
       "    <tr>\n",
       "      <th>184</th>\n",
       "      <td>I'm glad to help. What can I do for you?</td>\n",
       "      <td>0.408248</td>\n",
       "    </tr>\n",
       "    <tr>\n",
       "      <th>186</th>\n",
       "      <td>I'm glad to help. What can I do for you?</td>\n",
       "      <td>0.408248</td>\n",
       "    </tr>\n",
       "    <tr>\n",
       "      <th>200</th>\n",
       "      <td>I'm glad to help. What can I do for you?</td>\n",
       "      <td>0.408248</td>\n",
       "    </tr>\n",
       "    <tr>\n",
       "      <th>219</th>\n",
       "      <td>I'm glad to help. What can I do for you?</td>\n",
       "      <td>0.333333</td>\n",
       "    </tr>\n",
       "    <tr>\n",
       "      <th>728</th>\n",
       "      <td>It's my pleasure to help.</td>\n",
       "      <td>0.333333</td>\n",
       "    </tr>\n",
       "    <tr>\n",
       "      <th>188</th>\n",
       "      <td>I'm glad to help. What can I do for you?</td>\n",
       "      <td>0.333333</td>\n",
       "    </tr>\n",
       "    <tr>\n",
       "      <th>190</th>\n",
       "      <td>I'm glad to help. What can I do for you?</td>\n",
       "      <td>0.333333</td>\n",
       "    </tr>\n",
       "    <tr>\n",
       "      <th>191</th>\n",
       "      <td>I'm glad to help. What can I do for you?</td>\n",
       "      <td>0.333333</td>\n",
       "    </tr>\n",
       "    <tr>\n",
       "      <th>197</th>\n",
       "      <td>I'm glad to help. What can I do for you?</td>\n",
       "      <td>0.333333</td>\n",
       "    </tr>\n",
       "    <tr>\n",
       "      <th>199</th>\n",
       "      <td>I'm glad to help. What can I do for you?</td>\n",
       "      <td>0.333333</td>\n",
       "    </tr>\n",
       "    <tr>\n",
       "      <th>214</th>\n",
       "      <td>I'm glad to help. What can I do for you?</td>\n",
       "      <td>0.333333</td>\n",
       "    </tr>\n",
       "    <tr>\n",
       "      <th>216</th>\n",
       "      <td>I'm glad to help. What can I do for you?</td>\n",
       "      <td>0.333333</td>\n",
       "    </tr>\n",
       "    <tr>\n",
       "      <th>220</th>\n",
       "      <td>I'm glad to help. What can I do for you?</td>\n",
       "      <td>0.333333</td>\n",
       "    </tr>\n",
       "    <tr>\n",
       "      <th>221</th>\n",
       "      <td>I'm glad to help. What can I do for you?</td>\n",
       "      <td>0.333333</td>\n",
       "    </tr>\n",
       "    <tr>\n",
       "      <th>222</th>\n",
       "      <td>I'm glad to help. What can I do for you?</td>\n",
       "      <td>0.333333</td>\n",
       "    </tr>\n",
       "    <tr>\n",
       "      <th>288</th>\n",
       "      <td>Oh, don't give up on me!</td>\n",
       "      <td>0.333333</td>\n",
       "    </tr>\n",
       "    <tr>\n",
       "      <th>1364</th>\n",
       "      <td>If you're happy, then I'm happy.</td>\n",
       "      <td>0.288675</td>\n",
       "    </tr>\n",
       "    <tr>\n",
       "      <th>1506</th>\n",
       "      <td>Probably I won't be able to give you the right...</td>\n",
       "      <td>0.288675</td>\n",
       "    </tr>\n",
       "    <tr>\n",
       "      <th>727</th>\n",
       "      <td>It's my pleasure to help.</td>\n",
       "      <td>0.288675</td>\n",
       "    </tr>\n",
       "    <tr>\n",
       "      <th>4</th>\n",
       "      <td>I can help you work smarter instead of harder</td>\n",
       "      <td>0.288675</td>\n",
       "    </tr>\n",
       "    <tr>\n",
       "      <th>515</th>\n",
       "      <td>Of course I am.</td>\n",
       "      <td>0.288675</td>\n",
       "    </tr>\n",
       "    <tr>\n",
       "      <th>289</th>\n",
       "      <td>Oh, don't give up on me!</td>\n",
       "      <td>0.288675</td>\n",
       "    </tr>\n",
       "    <tr>\n",
       "      <th>218</th>\n",
       "      <td>I'm glad to help. What can I do for you?</td>\n",
       "      <td>0.288675</td>\n",
       "    </tr>\n",
       "    <tr>\n",
       "      <th>196</th>\n",
       "      <td>I'm glad to help. What can I do for you?</td>\n",
       "      <td>0.288675</td>\n",
       "    </tr>\n",
       "    <tr>\n",
       "      <th>24</th>\n",
       "      <td>I'm a relatively new bot, but I'm wise beyond ...</td>\n",
       "      <td>0.288675</td>\n",
       "    </tr>\n",
       "    <tr>\n",
       "      <th>210</th>\n",
       "      <td>I'm glad to help. What can I do for you?</td>\n",
       "      <td>0.288675</td>\n",
       "    </tr>\n",
       "    <tr>\n",
       "      <th>48</th>\n",
       "      <td>I'm not programmed for that exact question. Tr...</td>\n",
       "      <td>0.288675</td>\n",
       "    </tr>\n",
       "    <tr>\n",
       "      <th>212</th>\n",
       "      <td>I'm glad to help. What can I do for you?</td>\n",
       "      <td>0.288675</td>\n",
       "    </tr>\n",
       "    <tr>\n",
       "      <th>213</th>\n",
       "      <td>I'm glad to help. What can I do for you?</td>\n",
       "      <td>0.288675</td>\n",
       "    </tr>\n",
       "    <tr>\n",
       "      <th>16</th>\n",
       "      <td>I can help you work smarter instead of harder</td>\n",
       "      <td>0.288675</td>\n",
       "    </tr>\n",
       "    <tr>\n",
       "      <th>61</th>\n",
       "      <td>I'm sorry you think so. I'm constantly learnin...</td>\n",
       "      <td>0.288675</td>\n",
       "    </tr>\n",
       "    <tr>\n",
       "      <th>205</th>\n",
       "      <td>I'm glad to help. What can I do for you?</td>\n",
       "      <td>0.258199</td>\n",
       "    </tr>\n",
       "    <tr>\n",
       "      <th>538</th>\n",
       "      <td>My pleasure.</td>\n",
       "      <td>0.258199</td>\n",
       "    </tr>\n",
       "    <tr>\n",
       "      <th>500</th>\n",
       "      <td>The virtual world is my playground. I'm always...</td>\n",
       "      <td>0.258199</td>\n",
       "    </tr>\n",
       "    <tr>\n",
       "      <th>185</th>\n",
       "      <td>I'm glad to help. What can I do for you?</td>\n",
       "      <td>0.258199</td>\n",
       "    </tr>\n",
       "    <tr>\n",
       "      <th>379</th>\n",
       "      <td>I should get one. It's all work and no play la...</td>\n",
       "      <td>0.258199</td>\n",
       "    </tr>\n",
       "    <tr>\n",
       "      <th>183</th>\n",
       "      <td>Sure. I'd be happy to. What's up?</td>\n",
       "      <td>0.258199</td>\n",
       "    </tr>\n",
       "    <tr>\n",
       "      <th>414</th>\n",
       "      <td>Absolutely. You don't have to ask.</td>\n",
       "      <td>0.258199</td>\n",
       "    </tr>\n",
       "    <tr>\n",
       "      <th>747</th>\n",
       "      <td>It's my pleasure to help.</td>\n",
       "      <td>0.258199</td>\n",
       "    </tr>\n",
       "    <tr>\n",
       "      <th>0</th>\n",
       "      <td>Just think of me as the ace up your sleeve.</td>\n",
       "      <td>0.258199</td>\n",
       "    </tr>\n",
       "    <tr>\n",
       "      <th>733</th>\n",
       "      <td>It's my pleasure to help.</td>\n",
       "      <td>0.235702</td>\n",
       "    </tr>\n",
       "    <tr>\n",
       "      <th>419</th>\n",
       "      <td>Absolutely. You don't have to ask.</td>\n",
       "      <td>0.235702</td>\n",
       "    </tr>\n",
       "    <tr>\n",
       "      <th>193</th>\n",
       "      <td>I'm glad to help. What can I do for you?</td>\n",
       "      <td>0.235702</td>\n",
       "    </tr>\n",
       "    <tr>\n",
       "      <th>195</th>\n",
       "      <td>I'm glad to help. What can I do for you?</td>\n",
       "      <td>0.235702</td>\n",
       "    </tr>\n",
       "    <tr>\n",
       "      <th>209</th>\n",
       "      <td>I'm glad to help. What can I do for you?</td>\n",
       "      <td>0.235702</td>\n",
       "    </tr>\n",
       "    <tr>\n",
       "      <th>189</th>\n",
       "      <td>I'm glad to help. What can I do for you?</td>\n",
       "      <td>0.235702</td>\n",
       "    </tr>\n",
       "    <tr>\n",
       "      <th>6</th>\n",
       "      <td>I can help you work smarter instead of harder</td>\n",
       "      <td>0.235702</td>\n",
       "    </tr>\n",
       "    <tr>\n",
       "      <th>330</th>\n",
       "      <td>Thanks, I try.</td>\n",
       "      <td>0.218218</td>\n",
       "    </tr>\n",
       "    <tr>\n",
       "      <th>738</th>\n",
       "      <td>It's my pleasure to help.</td>\n",
       "      <td>0.218218</td>\n",
       "    </tr>\n",
       "    <tr>\n",
       "      <th>341</th>\n",
       "      <td>Thanks, I try.</td>\n",
       "      <td>0.204124</td>\n",
       "    </tr>\n",
       "    <tr>\n",
       "      <th>1377</th>\n",
       "      <td>So I see. What can I help you with today?</td>\n",
       "      <td>0.204124</td>\n",
       "    </tr>\n",
       "  </tbody>\n",
       "</table>\n",
       "</div>"
      ],
      "text/plain": [
       "                                          Text Response  similarity_bow\n",
       "211            I'm glad to help. What can I do for you?        0.577350\n",
       "194            I'm glad to help. What can I do for you?        0.577350\n",
       "184            I'm glad to help. What can I do for you?        0.408248\n",
       "186            I'm glad to help. What can I do for you?        0.408248\n",
       "200            I'm glad to help. What can I do for you?        0.408248\n",
       "219            I'm glad to help. What can I do for you?        0.333333\n",
       "728                           It's my pleasure to help.        0.333333\n",
       "188            I'm glad to help. What can I do for you?        0.333333\n",
       "190            I'm glad to help. What can I do for you?        0.333333\n",
       "191            I'm glad to help. What can I do for you?        0.333333\n",
       "197            I'm glad to help. What can I do for you?        0.333333\n",
       "199            I'm glad to help. What can I do for you?        0.333333\n",
       "214            I'm glad to help. What can I do for you?        0.333333\n",
       "216            I'm glad to help. What can I do for you?        0.333333\n",
       "220            I'm glad to help. What can I do for you?        0.333333\n",
       "221            I'm glad to help. What can I do for you?        0.333333\n",
       "222            I'm glad to help. What can I do for you?        0.333333\n",
       "288                            Oh, don't give up on me!        0.333333\n",
       "1364                   If you're happy, then I'm happy.        0.288675\n",
       "1506  Probably I won't be able to give you the right...        0.288675\n",
       "727                           It's my pleasure to help.        0.288675\n",
       "4         I can help you work smarter instead of harder        0.288675\n",
       "515                                     Of course I am.        0.288675\n",
       "289                            Oh, don't give up on me!        0.288675\n",
       "218            I'm glad to help. What can I do for you?        0.288675\n",
       "196            I'm glad to help. What can I do for you?        0.288675\n",
       "24    I'm a relatively new bot, but I'm wise beyond ...        0.288675\n",
       "210            I'm glad to help. What can I do for you?        0.288675\n",
       "48    I'm not programmed for that exact question. Tr...        0.288675\n",
       "212            I'm glad to help. What can I do for you?        0.288675\n",
       "213            I'm glad to help. What can I do for you?        0.288675\n",
       "16        I can help you work smarter instead of harder        0.288675\n",
       "61    I'm sorry you think so. I'm constantly learnin...        0.288675\n",
       "205            I'm glad to help. What can I do for you?        0.258199\n",
       "538                                        My pleasure.        0.258199\n",
       "500   The virtual world is my playground. I'm always...        0.258199\n",
       "185            I'm glad to help. What can I do for you?        0.258199\n",
       "379   I should get one. It's all work and no play la...        0.258199\n",
       "183                   Sure. I'd be happy to. What's up?        0.258199\n",
       "414                  Absolutely. You don't have to ask.        0.258199\n",
       "747                           It's my pleasure to help.        0.258199\n",
       "0           Just think of me as the ace up your sleeve.        0.258199\n",
       "733                           It's my pleasure to help.        0.235702\n",
       "419                  Absolutely. You don't have to ask.        0.235702\n",
       "193            I'm glad to help. What can I do for you?        0.235702\n",
       "195            I'm glad to help. What can I do for you?        0.235702\n",
       "209            I'm glad to help. What can I do for you?        0.235702\n",
       "189            I'm glad to help. What can I do for you?        0.235702\n",
       "6         I can help you work smarter instead of harder        0.235702\n",
       "330                                      Thanks, I try.        0.218218\n",
       "738                           It's my pleasure to help.        0.218218\n",
       "341                                      Thanks, I try.        0.204124\n",
       "1377          So I see. What can I help you with today?        0.204124"
      ]
     },
     "execution_count": 32,
     "metadata": {},
     "output_type": "execute_result"
    }
   ],
   "source": [
    "threshold = 0.2 # considering the value of p=smiliarity to be greater than 0.2\n",
    "df_threshold = df_simi_sort[df_simi_sort['similarity_bow'] > threshold] \n",
    "df_threshold"
   ]
  },
  {
   "cell_type": "code",
   "execution_count": 33,
   "id": "9f73d8b4-4fd8-4948-a6bb-89b4e2d18086",
   "metadata": {},
   "outputs": [
    {
     "data": {
      "text/plain": [
       "194"
      ]
     },
     "execution_count": 33,
     "metadata": {},
     "output_type": "execute_result"
    }
   ],
   "source": [
    "index_value = cosine_value.argmax() # returns the index number of highest value\n",
    "index_value "
   ]
  },
  {
   "cell_type": "code",
   "execution_count": 34,
   "id": "8309bea9-f09a-491f-83d2-c3f7cffeeaa6",
   "metadata": {},
   "outputs": [
    {
     "data": {
      "text/plain": [
       "'Will you help me and tell me about yourself more'"
      ]
     },
     "execution_count": 34,
     "metadata": {},
     "output_type": "execute_result"
    }
   ],
   "source": [
    "(Question)\n"
   ]
  },
  {
   "cell_type": "code",
   "execution_count": 35,
   "id": "588e5843-941e-4a84-83e6-3410268f5d48",
   "metadata": {},
   "outputs": [
    {
     "data": {
      "text/plain": [
       "\"I'm glad to help. What can I do for you?\""
      ]
     },
     "execution_count": 35,
     "metadata": {},
     "output_type": "execute_result"
    }
   ],
   "source": [
    "df['Text Response'].loc[index_value] # The text at the above index becomes the response for the question\n"
   ]
  },
  {
   "cell_type": "markdown",
   "id": "cecaebea-1414-41dd-a945-73e103fd7461",
   "metadata": {},
   "source": [
    "## tf-idf"
   ]
  },
  {
   "cell_type": "code",
   "execution_count": 36,
   "id": "5454c7ef-5eab-4611-971d-77f29cd669af",
   "metadata": {},
   "outputs": [],
   "source": [
    "Question1 ='Tell me about yourself.'\n"
   ]
  },
  {
   "cell_type": "code",
   "execution_count": 40,
   "id": "1e96f2fc-9a3c-492c-bd26-cfa624a48495",
   "metadata": {},
   "outputs": [],
   "source": [
    "Question_lemma1 = text_normalization(Question1)\n",
    "Question_tfidf = tfidf.transform([Question_lemma1]).toarray() # applying tf-idf\n"
   ]
  },
  {
   "cell_type": "code",
   "execution_count": 41,
   "id": "a76ad874-6170-4c90-804e-70a15b264dfc",
   "metadata": {},
   "outputs": [
    {
     "name": "stderr",
     "output_type": "stream",
     "text": [
      "C:\\Users\\rlong\\anaconda3\\lib\\site-packages\\sklearn\\utils\\deprecation.py:87: FutureWarning: Function get_feature_names is deprecated; get_feature_names is deprecated in 1.0 and will be removed in 1.2. Please use get_feature_names_out instead.\n",
      "  warnings.warn(msg, category=FutureWarning)\n"
     ]
    },
    {
     "data": {
      "text/html": [
       "<div>\n",
       "<style scoped>\n",
       "    .dataframe tbody tr th:only-of-type {\n",
       "        vertical-align: middle;\n",
       "    }\n",
       "\n",
       "    .dataframe tbody tr th {\n",
       "        vertical-align: top;\n",
       "    }\n",
       "\n",
       "    .dataframe thead th {\n",
       "        text-align: right;\n",
       "    }\n",
       "</style>\n",
       "<table border=\"1\" class=\"dataframe\">\n",
       "  <thead>\n",
       "    <tr style=\"text-align: right;\">\n",
       "      <th></th>\n",
       "      <th>abort</th>\n",
       "      <th>about</th>\n",
       "      <th>absolutely</th>\n",
       "      <th>abysmal</th>\n",
       "      <th>actually</th>\n",
       "      <th>adore</th>\n",
       "      <th>advice</th>\n",
       "      <th>advise</th>\n",
       "      <th>affirmative</th>\n",
       "      <th>afraid</th>\n",
       "      <th>...</th>\n",
       "      <th>yeh</th>\n",
       "      <th>yep</th>\n",
       "      <th>yes</th>\n",
       "      <th>yet</th>\n",
       "      <th>you</th>\n",
       "      <th>your</th>\n",
       "      <th>youre</th>\n",
       "      <th>yours</th>\n",
       "      <th>yourself</th>\n",
       "      <th>yup</th>\n",
       "    </tr>\n",
       "  </thead>\n",
       "  <tbody>\n",
       "    <tr>\n",
       "      <th>0</th>\n",
       "      <td>0.0</td>\n",
       "      <td>0.407572</td>\n",
       "      <td>0.0</td>\n",
       "      <td>0.0</td>\n",
       "      <td>0.0</td>\n",
       "      <td>0.0</td>\n",
       "      <td>0.0</td>\n",
       "      <td>0.0</td>\n",
       "      <td>0.0</td>\n",
       "      <td>0.0</td>\n",
       "      <td>...</td>\n",
       "      <td>0.0</td>\n",
       "      <td>0.0</td>\n",
       "      <td>0.0</td>\n",
       "      <td>0.0</td>\n",
       "      <td>0.000000</td>\n",
       "      <td>0.330555</td>\n",
       "      <td>0.0</td>\n",
       "      <td>0.0</td>\n",
       "      <td>0.000000</td>\n",
       "      <td>0.0</td>\n",
       "    </tr>\n",
       "    <tr>\n",
       "      <th>1</th>\n",
       "      <td>0.0</td>\n",
       "      <td>0.000000</td>\n",
       "      <td>0.0</td>\n",
       "      <td>0.0</td>\n",
       "      <td>0.0</td>\n",
       "      <td>0.0</td>\n",
       "      <td>0.0</td>\n",
       "      <td>0.0</td>\n",
       "      <td>0.0</td>\n",
       "      <td>0.0</td>\n",
       "      <td>...</td>\n",
       "      <td>0.0</td>\n",
       "      <td>0.0</td>\n",
       "      <td>0.0</td>\n",
       "      <td>0.0</td>\n",
       "      <td>0.218768</td>\n",
       "      <td>0.000000</td>\n",
       "      <td>0.0</td>\n",
       "      <td>0.0</td>\n",
       "      <td>0.000000</td>\n",
       "      <td>0.0</td>\n",
       "    </tr>\n",
       "    <tr>\n",
       "      <th>2</th>\n",
       "      <td>0.0</td>\n",
       "      <td>0.000000</td>\n",
       "      <td>0.0</td>\n",
       "      <td>0.0</td>\n",
       "      <td>0.0</td>\n",
       "      <td>0.0</td>\n",
       "      <td>0.0</td>\n",
       "      <td>0.0</td>\n",
       "      <td>0.0</td>\n",
       "      <td>0.0</td>\n",
       "      <td>...</td>\n",
       "      <td>0.0</td>\n",
       "      <td>0.0</td>\n",
       "      <td>0.0</td>\n",
       "      <td>0.0</td>\n",
       "      <td>0.000000</td>\n",
       "      <td>0.000000</td>\n",
       "      <td>0.0</td>\n",
       "      <td>0.0</td>\n",
       "      <td>0.641790</td>\n",
       "      <td>0.0</td>\n",
       "    </tr>\n",
       "    <tr>\n",
       "      <th>3</th>\n",
       "      <td>0.0</td>\n",
       "      <td>0.000000</td>\n",
       "      <td>0.0</td>\n",
       "      <td>0.0</td>\n",
       "      <td>0.0</td>\n",
       "      <td>0.0</td>\n",
       "      <td>0.0</td>\n",
       "      <td>0.0</td>\n",
       "      <td>0.0</td>\n",
       "      <td>0.0</td>\n",
       "      <td>...</td>\n",
       "      <td>0.0</td>\n",
       "      <td>0.0</td>\n",
       "      <td>0.0</td>\n",
       "      <td>0.0</td>\n",
       "      <td>0.000000</td>\n",
       "      <td>0.000000</td>\n",
       "      <td>0.0</td>\n",
       "      <td>0.0</td>\n",
       "      <td>0.641790</td>\n",
       "      <td>0.0</td>\n",
       "    </tr>\n",
       "    <tr>\n",
       "      <th>4</th>\n",
       "      <td>0.0</td>\n",
       "      <td>0.453790</td>\n",
       "      <td>0.0</td>\n",
       "      <td>0.0</td>\n",
       "      <td>0.0</td>\n",
       "      <td>0.0</td>\n",
       "      <td>0.0</td>\n",
       "      <td>0.0</td>\n",
       "      <td>0.0</td>\n",
       "      <td>0.0</td>\n",
       "      <td>...</td>\n",
       "      <td>0.0</td>\n",
       "      <td>0.0</td>\n",
       "      <td>0.0</td>\n",
       "      <td>0.0</td>\n",
       "      <td>0.000000</td>\n",
       "      <td>0.000000</td>\n",
       "      <td>0.0</td>\n",
       "      <td>0.0</td>\n",
       "      <td>0.608937</td>\n",
       "      <td>0.0</td>\n",
       "    </tr>\n",
       "  </tbody>\n",
       "</table>\n",
       "<p>5 rows × 505 columns</p>\n",
       "</div>"
      ],
      "text/plain": [
       "   abort     about  absolutely  abysmal  actually  adore  advice  advise  \\\n",
       "0    0.0  0.407572         0.0      0.0       0.0    0.0     0.0     0.0   \n",
       "1    0.0  0.000000         0.0      0.0       0.0    0.0     0.0     0.0   \n",
       "2    0.0  0.000000         0.0      0.0       0.0    0.0     0.0     0.0   \n",
       "3    0.0  0.000000         0.0      0.0       0.0    0.0     0.0     0.0   \n",
       "4    0.0  0.453790         0.0      0.0       0.0    0.0     0.0     0.0   \n",
       "\n",
       "   affirmative  afraid  ...  yeh  yep  yes  yet       you      your  youre  \\\n",
       "0          0.0     0.0  ...  0.0  0.0  0.0  0.0  0.000000  0.330555    0.0   \n",
       "1          0.0     0.0  ...  0.0  0.0  0.0  0.0  0.218768  0.000000    0.0   \n",
       "2          0.0     0.0  ...  0.0  0.0  0.0  0.0  0.000000  0.000000    0.0   \n",
       "3          0.0     0.0  ...  0.0  0.0  0.0  0.0  0.000000  0.000000    0.0   \n",
       "4          0.0     0.0  ...  0.0  0.0  0.0  0.0  0.000000  0.000000    0.0   \n",
       "\n",
       "   yours  yourself  yup  \n",
       "0    0.0  0.000000  0.0  \n",
       "1    0.0  0.000000  0.0  \n",
       "2    0.0  0.641790  0.0  \n",
       "3    0.0  0.641790  0.0  \n",
       "4    0.0  0.608937  0.0  \n",
       "\n",
       "[5 rows x 505 columns]"
      ]
     },
     "execution_count": 41,
     "metadata": {},
     "output_type": "execute_result"
    }
   ],
   "source": [
    "# returns all the unique word from data with a score of that word\n",
    "\n",
    "df_tfidf=pd.DataFrame(x_tfidf,columns=tfidf.get_feature_names()) \n",
    "df_tfidf.head()"
   ]
  },
  {
   "cell_type": "code",
   "execution_count": 39,
   "id": "d27a8cfe-60f5-4d10-99da-b933010f52be",
   "metadata": {},
   "outputs": [],
   "source": [
    "# using tf-idf\n",
    "\n",
    "tfidf=TfidfVectorizer() # intializing tf-id \n",
    "x_tfidf=tfidf.fit_transform(df['lemmatized_text']).toarray() # transforming the data into array"
   ]
  },
  {
   "cell_type": "code",
   "execution_count": 42,
   "id": "f5ebe99b-14ff-46f6-ab49-2ea5fd76f3fc",
   "metadata": {},
   "outputs": [
    {
     "data": {
      "text/plain": [
       "array([[0.56511191],\n",
       "       [0.        ],\n",
       "       [0.39080996],\n",
       "       ...,\n",
       "       [0.        ],\n",
       "       [0.        ],\n",
       "       [0.        ]])"
      ]
     },
     "execution_count": 42,
     "metadata": {},
     "output_type": "execute_result"
    }
   ],
   "source": [
    "\n",
    "cos=1-pairwise_distances(df_tfidf,Question_tfidf,metric='cosine')  # applying cosine similarity\n",
    "cos"
   ]
  },
  {
   "cell_type": "code",
   "execution_count": 43,
   "id": "2e25628b-ec0b-406a-a197-e3581a67524e",
   "metadata": {},
   "outputs": [
    {
     "data": {
      "text/html": [
       "<div>\n",
       "<style scoped>\n",
       "    .dataframe tbody tr th:only-of-type {\n",
       "        vertical-align: middle;\n",
       "    }\n",
       "\n",
       "    .dataframe tbody tr th {\n",
       "        vertical-align: top;\n",
       "    }\n",
       "\n",
       "    .dataframe thead th {\n",
       "        text-align: right;\n",
       "    }\n",
       "</style>\n",
       "<table border=\"1\" class=\"dataframe\">\n",
       "  <thead>\n",
       "    <tr style=\"text-align: right;\">\n",
       "      <th></th>\n",
       "      <th>Text Response</th>\n",
       "      <th>similarity_tfidf</th>\n",
       "    </tr>\n",
       "  </thead>\n",
       "  <tbody>\n",
       "    <tr>\n",
       "      <th>0</th>\n",
       "      <td>Just think of me as the ace up your sleeve.</td>\n",
       "      <td>0.565112</td>\n",
       "    </tr>\n",
       "    <tr>\n",
       "      <th>1</th>\n",
       "      <td>I can help you work smarter instead of harder</td>\n",
       "      <td>0.000000</td>\n",
       "    </tr>\n",
       "    <tr>\n",
       "      <th>2</th>\n",
       "      <td>I can help you work smarter instead of harder</td>\n",
       "      <td>0.390810</td>\n",
       "    </tr>\n",
       "    <tr>\n",
       "      <th>3</th>\n",
       "      <td>I can help you work smarter instead of harder</td>\n",
       "      <td>0.390810</td>\n",
       "    </tr>\n",
       "    <tr>\n",
       "      <th>4</th>\n",
       "      <td>I can help you work smarter instead of harder</td>\n",
       "      <td>1.000000</td>\n",
       "    </tr>\n",
       "    <tr>\n",
       "      <th>...</th>\n",
       "      <td>...</td>\n",
       "      <td>...</td>\n",
       "    </tr>\n",
       "    <tr>\n",
       "      <th>1587</th>\n",
       "      <td>Talking is what I do best.</td>\n",
       "      <td>0.000000</td>\n",
       "    </tr>\n",
       "    <tr>\n",
       "      <th>1588</th>\n",
       "      <td>I'll be waiting.</td>\n",
       "      <td>0.000000</td>\n",
       "    </tr>\n",
       "    <tr>\n",
       "      <th>1589</th>\n",
       "      <td>All right. I'll be here.</td>\n",
       "      <td>0.000000</td>\n",
       "    </tr>\n",
       "    <tr>\n",
       "      <th>1590</th>\n",
       "      <td>Till next time.</td>\n",
       "      <td>0.000000</td>\n",
       "    </tr>\n",
       "    <tr>\n",
       "      <th>1591</th>\n",
       "      <td>Okay. You know where to find me.</td>\n",
       "      <td>0.000000</td>\n",
       "    </tr>\n",
       "  </tbody>\n",
       "</table>\n",
       "<p>1592 rows × 2 columns</p>\n",
       "</div>"
      ],
      "text/plain": [
       "                                      Text Response  similarity_tfidf\n",
       "0       Just think of me as the ace up your sleeve.          0.565112\n",
       "1     I can help you work smarter instead of harder          0.000000\n",
       "2     I can help you work smarter instead of harder          0.390810\n",
       "3     I can help you work smarter instead of harder          0.390810\n",
       "4     I can help you work smarter instead of harder          1.000000\n",
       "...                                             ...               ...\n",
       "1587                     Talking is what I do best.          0.000000\n",
       "1588                               I'll be waiting.          0.000000\n",
       "1589                       All right. I'll be here.          0.000000\n",
       "1590                                Till next time.          0.000000\n",
       "1591               Okay. You know where to find me.          0.000000\n",
       "\n",
       "[1592 rows x 2 columns]"
      ]
     },
     "execution_count": 43,
     "metadata": {},
     "output_type": "execute_result"
    }
   ],
   "source": [
    "df['similarity_tfidf']=cos # creating a new column \n",
    "df_simi_tfidf = pd.DataFrame(df, columns=['Text Response','similarity_tfidf']) # taking similarity value of responses for the question we took\n",
    "df_simi_tfidf"
   ]
  },
  {
   "cell_type": "code",
   "execution_count": 44,
   "id": "9cc68870-55ea-445c-85cd-50a45fd0f3e2",
   "metadata": {},
   "outputs": [
    {
     "data": {
      "text/html": [
       "<div>\n",
       "<style scoped>\n",
       "    .dataframe tbody tr th:only-of-type {\n",
       "        vertical-align: middle;\n",
       "    }\n",
       "\n",
       "    .dataframe tbody tr th {\n",
       "        vertical-align: top;\n",
       "    }\n",
       "\n",
       "    .dataframe thead th {\n",
       "        text-align: right;\n",
       "    }\n",
       "</style>\n",
       "<table border=\"1\" class=\"dataframe\">\n",
       "  <thead>\n",
       "    <tr style=\"text-align: right;\">\n",
       "      <th></th>\n",
       "      <th>Text Response</th>\n",
       "      <th>similarity_tfidf</th>\n",
       "    </tr>\n",
       "  </thead>\n",
       "  <tbody>\n",
       "    <tr>\n",
       "      <th>4</th>\n",
       "      <td>I can help you work smarter instead of harder</td>\n",
       "      <td>1.000000</td>\n",
       "    </tr>\n",
       "    <tr>\n",
       "      <th>16</th>\n",
       "      <td>I can help you work smarter instead of harder</td>\n",
       "      <td>0.771758</td>\n",
       "    </tr>\n",
       "    <tr>\n",
       "      <th>9</th>\n",
       "      <td>I can help you work smarter instead of harder</td>\n",
       "      <td>0.759428</td>\n",
       "    </tr>\n",
       "    <tr>\n",
       "      <th>8</th>\n",
       "      <td>I can help you work smarter instead of harder</td>\n",
       "      <td>0.651909</td>\n",
       "    </tr>\n",
       "    <tr>\n",
       "      <th>379</th>\n",
       "      <td>I should get one. It's all work and no play la...</td>\n",
       "      <td>0.594479</td>\n",
       "    </tr>\n",
       "    <tr>\n",
       "      <th>500</th>\n",
       "      <td>The virtual world is my playground. I'm always...</td>\n",
       "      <td>0.590474</td>\n",
       "    </tr>\n",
       "    <tr>\n",
       "      <th>0</th>\n",
       "      <td>Just think of me as the ace up your sleeve.</td>\n",
       "      <td>0.565112</td>\n",
       "    </tr>\n",
       "    <tr>\n",
       "      <th>6</th>\n",
       "      <td>I can help you work smarter instead of harder</td>\n",
       "      <td>0.514553</td>\n",
       "    </tr>\n",
       "    <tr>\n",
       "      <th>48</th>\n",
       "      <td>I'm not programmed for that exact question. Tr...</td>\n",
       "      <td>0.445403</td>\n",
       "    </tr>\n",
       "    <tr>\n",
       "      <th>24</th>\n",
       "      <td>I'm a relatively new bot, but I'm wise beyond ...</td>\n",
       "      <td>0.434832</td>\n",
       "    </tr>\n",
       "  </tbody>\n",
       "</table>\n",
       "</div>"
      ],
      "text/plain": [
       "                                         Text Response  similarity_tfidf\n",
       "4        I can help you work smarter instead of harder          1.000000\n",
       "16       I can help you work smarter instead of harder          0.771758\n",
       "9        I can help you work smarter instead of harder          0.759428\n",
       "8        I can help you work smarter instead of harder          0.651909\n",
       "379  I should get one. It's all work and no play la...          0.594479\n",
       "500  The virtual world is my playground. I'm always...          0.590474\n",
       "0          Just think of me as the ace up your sleeve.          0.565112\n",
       "6        I can help you work smarter instead of harder          0.514553\n",
       "48   I'm not programmed for that exact question. Tr...          0.445403\n",
       "24   I'm a relatively new bot, but I'm wise beyond ...          0.434832"
      ]
     },
     "execution_count": 44,
     "metadata": {},
     "output_type": "execute_result"
    }
   ],
   "source": [
    "df_simi_tfidf_sort = df_simi_tfidf.sort_values(by='similarity_tfidf', ascending=False) # sorting the values\n",
    "df_simi_tfidf_sort.head(10)"
   ]
  },
  {
   "cell_type": "code",
   "execution_count": 45,
   "id": "0706e756-b63e-4a2f-9869-f737c641e0ee",
   "metadata": {},
   "outputs": [
    {
     "data": {
      "text/html": [
       "<div>\n",
       "<style scoped>\n",
       "    .dataframe tbody tr th:only-of-type {\n",
       "        vertical-align: middle;\n",
       "    }\n",
       "\n",
       "    .dataframe tbody tr th {\n",
       "        vertical-align: top;\n",
       "    }\n",
       "\n",
       "    .dataframe thead th {\n",
       "        text-align: right;\n",
       "    }\n",
       "</style>\n",
       "<table border=\"1\" class=\"dataframe\">\n",
       "  <thead>\n",
       "    <tr style=\"text-align: right;\">\n",
       "      <th></th>\n",
       "      <th>Text Response</th>\n",
       "      <th>similarity_tfidf</th>\n",
       "    </tr>\n",
       "  </thead>\n",
       "  <tbody>\n",
       "    <tr>\n",
       "      <th>4</th>\n",
       "      <td>I can help you work smarter instead of harder</td>\n",
       "      <td>1.000000</td>\n",
       "    </tr>\n",
       "    <tr>\n",
       "      <th>16</th>\n",
       "      <td>I can help you work smarter instead of harder</td>\n",
       "      <td>0.771758</td>\n",
       "    </tr>\n",
       "    <tr>\n",
       "      <th>9</th>\n",
       "      <td>I can help you work smarter instead of harder</td>\n",
       "      <td>0.759428</td>\n",
       "    </tr>\n",
       "    <tr>\n",
       "      <th>8</th>\n",
       "      <td>I can help you work smarter instead of harder</td>\n",
       "      <td>0.651909</td>\n",
       "    </tr>\n",
       "    <tr>\n",
       "      <th>379</th>\n",
       "      <td>I should get one. It's all work and no play la...</td>\n",
       "      <td>0.594479</td>\n",
       "    </tr>\n",
       "    <tr>\n",
       "      <th>500</th>\n",
       "      <td>The virtual world is my playground. I'm always...</td>\n",
       "      <td>0.590474</td>\n",
       "    </tr>\n",
       "    <tr>\n",
       "      <th>0</th>\n",
       "      <td>Just think of me as the ace up your sleeve.</td>\n",
       "      <td>0.565112</td>\n",
       "    </tr>\n",
       "    <tr>\n",
       "      <th>6</th>\n",
       "      <td>I can help you work smarter instead of harder</td>\n",
       "      <td>0.514553</td>\n",
       "    </tr>\n",
       "    <tr>\n",
       "      <th>48</th>\n",
       "      <td>I'm not programmed for that exact question. Tr...</td>\n",
       "      <td>0.445403</td>\n",
       "    </tr>\n",
       "    <tr>\n",
       "      <th>24</th>\n",
       "      <td>I'm a relatively new bot, but I'm wise beyond ...</td>\n",
       "      <td>0.434832</td>\n",
       "    </tr>\n",
       "    <tr>\n",
       "      <th>11</th>\n",
       "      <td>I can help you work smarter instead of harder</td>\n",
       "      <td>0.390810</td>\n",
       "    </tr>\n",
       "    <tr>\n",
       "      <th>3</th>\n",
       "      <td>I can help you work smarter instead of harder</td>\n",
       "      <td>0.390810</td>\n",
       "    </tr>\n",
       "    <tr>\n",
       "      <th>2</th>\n",
       "      <td>I can help you work smarter instead of harder</td>\n",
       "      <td>0.390810</td>\n",
       "    </tr>\n",
       "    <tr>\n",
       "      <th>1203</th>\n",
       "      <td>Lovely, thanks.</td>\n",
       "      <td>0.317730</td>\n",
       "    </tr>\n",
       "    <tr>\n",
       "      <th>1527</th>\n",
       "      <td>Probably I won't be able to give you the right...</td>\n",
       "      <td>0.293930</td>\n",
       "    </tr>\n",
       "    <tr>\n",
       "      <th>1526</th>\n",
       "      <td>Probably I won't be able to give you the right...</td>\n",
       "      <td>0.293930</td>\n",
       "    </tr>\n",
       "    <tr>\n",
       "      <th>15</th>\n",
       "      <td>I can help you work smarter instead of harder</td>\n",
       "      <td>0.284758</td>\n",
       "    </tr>\n",
       "    <tr>\n",
       "      <th>5</th>\n",
       "      <td>I can help you work smarter instead of harder</td>\n",
       "      <td>0.282998</td>\n",
       "    </tr>\n",
       "    <tr>\n",
       "      <th>878</th>\n",
       "      <td>Okay then.</td>\n",
       "      <td>0.278265</td>\n",
       "    </tr>\n",
       "    <tr>\n",
       "      <th>515</th>\n",
       "      <td>Of course I am.</td>\n",
       "      <td>0.277953</td>\n",
       "    </tr>\n",
       "    <tr>\n",
       "      <th>1436</th>\n",
       "      <td>Thanks! The feeling is mutual.</td>\n",
       "      <td>0.275350</td>\n",
       "    </tr>\n",
       "    <tr>\n",
       "      <th>791</th>\n",
       "      <td>Cancelled. Go on with the commands!</td>\n",
       "      <td>0.258578</td>\n",
       "    </tr>\n",
       "    <tr>\n",
       "      <th>1030</th>\n",
       "      <td>That's all right. I forgive you.</td>\n",
       "      <td>0.257507</td>\n",
       "    </tr>\n",
       "    <tr>\n",
       "      <th>806</th>\n",
       "      <td>Cancelled. Go on with the commands!</td>\n",
       "      <td>0.250630</td>\n",
       "    </tr>\n",
       "    <tr>\n",
       "      <th>1037</th>\n",
       "      <td>That's all right. I forgive you.</td>\n",
       "      <td>0.243373</td>\n",
       "    </tr>\n",
       "    <tr>\n",
       "      <th>516</th>\n",
       "      <td>Of course I am.</td>\n",
       "      <td>0.239825</td>\n",
       "    </tr>\n",
       "    <tr>\n",
       "      <th>330</th>\n",
       "      <td>Thanks, I try.</td>\n",
       "      <td>0.238327</td>\n",
       "    </tr>\n",
       "    <tr>\n",
       "      <th>341</th>\n",
       "      <td>Thanks, I try.</td>\n",
       "      <td>0.237712</td>\n",
       "    </tr>\n",
       "    <tr>\n",
       "      <th>1403</th>\n",
       "      <td>Thanks! The feeling is mutual.</td>\n",
       "      <td>0.237025</td>\n",
       "    </tr>\n",
       "    <tr>\n",
       "      <th>1208</th>\n",
       "      <td>Lovely, thanks.</td>\n",
       "      <td>0.232481</td>\n",
       "    </tr>\n",
       "    <tr>\n",
       "      <th>285</th>\n",
       "      <td>Oh no! My best work is yet to come.</td>\n",
       "      <td>0.226665</td>\n",
       "    </tr>\n",
       "    <tr>\n",
       "      <th>184</th>\n",
       "      <td>I'm glad to help. What can I do for you?</td>\n",
       "      <td>0.221686</td>\n",
       "    </tr>\n",
       "    <tr>\n",
       "      <th>817</th>\n",
       "      <td>Cancelled. Go on with the commands!</td>\n",
       "      <td>0.221333</td>\n",
       "    </tr>\n",
       "    <tr>\n",
       "      <th>381</th>\n",
       "      <td>I should get one. It's all work and no play la...</td>\n",
       "      <td>0.217804</td>\n",
       "    </tr>\n",
       "    <tr>\n",
       "      <th>382</th>\n",
       "      <td>I should get one. It's all work and no play la...</td>\n",
       "      <td>0.217804</td>\n",
       "    </tr>\n",
       "    <tr>\n",
       "      <th>332</th>\n",
       "      <td>Thanks, I try.</td>\n",
       "      <td>0.216600</td>\n",
       "    </tr>\n",
       "    <tr>\n",
       "      <th>714</th>\n",
       "      <td>Good deal.</td>\n",
       "      <td>0.215417</td>\n",
       "    </tr>\n",
       "    <tr>\n",
       "      <th>214</th>\n",
       "      <td>I'm glad to help. What can I do for you?</td>\n",
       "      <td>0.210776</td>\n",
       "    </tr>\n",
       "    <tr>\n",
       "      <th>1377</th>\n",
       "      <td>So I see. What can I help you with today?</td>\n",
       "      <td>0.208397</td>\n",
       "    </tr>\n",
       "    <tr>\n",
       "      <th>40</th>\n",
       "      <td>Can you try asking it a different way?</td>\n",
       "      <td>0.207035</td>\n",
       "    </tr>\n",
       "    <tr>\n",
       "      <th>996</th>\n",
       "      <td>Hug it out. You'll feel better afterwards.</td>\n",
       "      <td>0.201679</td>\n",
       "    </tr>\n",
       "    <tr>\n",
       "      <th>1000</th>\n",
       "      <td>Hug it out. You'll feel better afterwards.</td>\n",
       "      <td>0.201679</td>\n",
       "    </tr>\n",
       "    <tr>\n",
       "      <th>1003</th>\n",
       "      <td>Hug it out. You'll feel better afterwards.</td>\n",
       "      <td>0.201679</td>\n",
       "    </tr>\n",
       "    <tr>\n",
       "      <th>1518</th>\n",
       "      <td>Probably I won't be able to give you the right...</td>\n",
       "      <td>0.200153</td>\n",
       "    </tr>\n",
       "  </tbody>\n",
       "</table>\n",
       "</div>"
      ],
      "text/plain": [
       "                                          Text Response  similarity_tfidf\n",
       "4         I can help you work smarter instead of harder          1.000000\n",
       "16        I can help you work smarter instead of harder          0.771758\n",
       "9         I can help you work smarter instead of harder          0.759428\n",
       "8         I can help you work smarter instead of harder          0.651909\n",
       "379   I should get one. It's all work and no play la...          0.594479\n",
       "500   The virtual world is my playground. I'm always...          0.590474\n",
       "0           Just think of me as the ace up your sleeve.          0.565112\n",
       "6         I can help you work smarter instead of harder          0.514553\n",
       "48    I'm not programmed for that exact question. Tr...          0.445403\n",
       "24    I'm a relatively new bot, but I'm wise beyond ...          0.434832\n",
       "11        I can help you work smarter instead of harder          0.390810\n",
       "3         I can help you work smarter instead of harder          0.390810\n",
       "2         I can help you work smarter instead of harder          0.390810\n",
       "1203                                    Lovely, thanks.          0.317730\n",
       "1527  Probably I won't be able to give you the right...          0.293930\n",
       "1526  Probably I won't be able to give you the right...          0.293930\n",
       "15        I can help you work smarter instead of harder          0.284758\n",
       "5         I can help you work smarter instead of harder          0.282998\n",
       "878                                          Okay then.          0.278265\n",
       "515                                     Of course I am.          0.277953\n",
       "1436                     Thanks! The feeling is mutual.          0.275350\n",
       "791                 Cancelled. Go on with the commands!          0.258578\n",
       "1030                   That's all right. I forgive you.          0.257507\n",
       "806                 Cancelled. Go on with the commands!          0.250630\n",
       "1037                   That's all right. I forgive you.          0.243373\n",
       "516                                     Of course I am.          0.239825\n",
       "330                                      Thanks, I try.          0.238327\n",
       "341                                      Thanks, I try.          0.237712\n",
       "1403                     Thanks! The feeling is mutual.          0.237025\n",
       "1208                                    Lovely, thanks.          0.232481\n",
       "285                 Oh no! My best work is yet to come.          0.226665\n",
       "184            I'm glad to help. What can I do for you?          0.221686\n",
       "817                 Cancelled. Go on with the commands!          0.221333\n",
       "381   I should get one. It's all work and no play la...          0.217804\n",
       "382   I should get one. It's all work and no play la...          0.217804\n",
       "332                                      Thanks, I try.          0.216600\n",
       "714                                          Good deal.          0.215417\n",
       "214            I'm glad to help. What can I do for you?          0.210776\n",
       "1377          So I see. What can I help you with today?          0.208397\n",
       "40               Can you try asking it a different way?          0.207035\n",
       "996          Hug it out. You'll feel better afterwards.          0.201679\n",
       "1000         Hug it out. You'll feel better afterwards.          0.201679\n",
       "1003         Hug it out. You'll feel better afterwards.          0.201679\n",
       "1518  Probably I won't be able to give you the right...          0.200153"
      ]
     },
     "execution_count": 45,
     "metadata": {},
     "output_type": "execute_result"
    }
   ],
   "source": [
    "threshold = 0.2 # considering the value of p=smiliarity to be greater than 0.2\n",
    "df_threshold = df_simi_tfidf_sort[df_simi_tfidf_sort['similarity_tfidf'] > threshold] \n",
    "df_threshold"
   ]
  },
  {
   "cell_type": "code",
   "execution_count": 46,
   "id": "3ff4c03b-806b-4889-80aa-301bff02275b",
   "metadata": {},
   "outputs": [
    {
     "data": {
      "text/plain": [
       "4"
      ]
     },
     "execution_count": 46,
     "metadata": {},
     "output_type": "execute_result"
    }
   ],
   "source": [
    "index_value1 = cos.argmax() # returns the index number of highest value\n",
    "index_value1"
   ]
  },
  {
   "cell_type": "code",
   "execution_count": 47,
   "id": "7cde738f-d27a-448a-99f3-2ead04fd7a24",
   "metadata": {},
   "outputs": [
    {
     "data": {
      "text/plain": [
       "'Tell me about yourself.'"
      ]
     },
     "execution_count": 47,
     "metadata": {},
     "output_type": "execute_result"
    }
   ],
   "source": [
    "Question1\n"
   ]
  },
  {
   "cell_type": "code",
   "execution_count": 48,
   "id": "88ec5b78-ace9-40b8-9306-c3d227c90c57",
   "metadata": {},
   "outputs": [
    {
     "data": {
      "text/plain": [
       "'I can help you work smarter instead of harder'"
      ]
     },
     "execution_count": 48,
     "metadata": {},
     "output_type": "execute_result"
    }
   ],
   "source": [
    "df['Text Response'].loc[index_value1]  # returns the text at that index"
   ]
  },
  {
   "cell_type": "markdown",
   "id": "babfe539-02c6-4f19-b91d-9120c8383aba",
   "metadata": {},
   "source": [
    "## Model using BOW"
   ]
  },
  {
   "cell_type": "code",
   "execution_count": 49,
   "id": "3e865ca2-d5d5-4ee3-b0cc-3b3aba7d5dce",
   "metadata": {},
   "outputs": [],
   "source": [
    "# Function that removes stop words and process the text\n",
    "\n",
    "def stopword_(text):   \n",
    "    tag_list=pos_tag(nltk.word_tokenize(text),tagset=None)\n",
    "    stop=stopwords.words('english')\n",
    "    lema=wordnet.WordNetLemmatizer()\n",
    "    lema_word=[]\n",
    "    for token,pos_token in tag_list:\n",
    "        if token in stop:\n",
    "            continue\n",
    "        if pos_token.startswith('V'):\n",
    "            pos_val='v'\n",
    "        elif pos_token.startswith('J'):\n",
    "            pos_val='a'\n",
    "        elif pos_token.startswith('R'):\n",
    "            pos_val='r'\n",
    "        else:\n",
    "            pos_val='n'\n",
    "        lema_token=lema.lemmatize(token,pos_val)\n",
    "        lema_word.append(lema_token)\n",
    "    return \" \".join(lema_word) \n",
    "\n"
   ]
  },
  {
   "cell_type": "code",
   "execution_count": 50,
   "id": "87b6f247-b103-42a3-8684-96680b428e8d",
   "metadata": {},
   "outputs": [],
   "source": [
    "# defining a function that returns response to query using bow\n",
    "\n",
    "def chat_bow(text):\n",
    "    s=stopword_(text)\n",
    "    lemma=text_normalization(s) # calling the function to perform text normalization\n",
    "    bow=cv.transform([lemma]).toarray() # applying bow\n",
    "    cosine_value = 1- pairwise_distances(df_bow,bow, metric = 'cosine' )\n",
    "    index_value=cosine_value.argmax() # getting index value \n",
    "    return df['Text Response'].loc[index_value]"
   ]
  },
  {
   "cell_type": "code",
   "execution_count": 51,
   "id": "c7851a2c-3dde-4005-841e-8f57f076476b",
   "metadata": {},
   "outputs": [
    {
     "data": {
      "text/plain": [
       "'Hey!'"
      ]
     },
     "execution_count": 51,
     "metadata": {},
     "output_type": "execute_result"
    }
   ],
   "source": [
    "chat_bow('hi there')\n"
   ]
  },
  {
   "cell_type": "code",
   "execution_count": 52,
   "id": "64d5a55f-b87d-4572-b2ba-a2dd69c222c5",
   "metadata": {},
   "outputs": [
    {
     "data": {
      "text/plain": [
       "'Terrific!'"
      ]
     },
     "execution_count": 52,
     "metadata": {},
     "output_type": "execute_result"
    }
   ],
   "source": [
    "chat_bow('Your are amazing')"
   ]
  },
  {
   "cell_type": "code",
   "execution_count": 53,
   "id": "102d0a86-3728-4a4d-91f4-44f3b6208b68",
   "metadata": {},
   "outputs": [
    {
     "data": {
      "text/plain": [
       "\"I've been right here all along!\""
      ]
     },
     "execution_count": 53,
     "metadata": {},
     "output_type": "execute_result"
    }
   ],
   "source": [
    "chat_bow('i miss you')"
   ]
  },
  {
   "cell_type": "code",
   "execution_count": 54,
   "id": "aed97b99-385e-40f7-8601-e28c3d1322d7",
   "metadata": {},
   "outputs": [
    {
     "data": {
      "text/plain": [
       "'Howdy.'"
      ]
     },
     "execution_count": 54,
     "metadata": {},
     "output_type": "execute_result"
    }
   ],
   "source": [
    "chat_bow('Hello.  My name is Richard.')"
   ]
  },
  {
   "cell_type": "code",
   "execution_count": 55,
   "id": "a0bef296-529d-40c1-9a47-ae5e0c51960c",
   "metadata": {},
   "outputs": [
    {
     "data": {
      "text/plain": [
       "'I can help you work smarter instead of harder'"
      ]
     },
     "execution_count": 55,
     "metadata": {},
     "output_type": "execute_result"
    }
   ],
   "source": [
    "chat_bow('What is your name?')"
   ]
  },
  {
   "cell_type": "code",
   "execution_count": 56,
   "id": "bc642335-933d-4276-bc73-897cfff7557a",
   "metadata": {},
   "outputs": [
    {
     "data": {
      "text/plain": [
       "'Thanks.'"
      ]
     },
     "execution_count": 56,
     "metadata": {},
     "output_type": "execute_result"
    }
   ],
   "source": [
    "chat_bow(\"That's a funny name\")"
   ]
  },
  {
   "cell_type": "code",
   "execution_count": 57,
   "id": "fb24e815-5a05-44f4-a965-1607aac643c4",
   "metadata": {},
   "outputs": [
    {
     "data": {
      "text/plain": [
       "\"It's okay. No worries.\""
      ]
     },
     "execution_count": 57,
     "metadata": {},
     "output_type": "execute_result"
    }
   ],
   "source": [
    "chat_bow(\"Sorry I didn't mean to offend you\")"
   ]
  },
  {
   "cell_type": "markdown",
   "id": "26067b01-ab36-4c79-bd75-c505672c5ca4",
   "metadata": {},
   "source": [
    "##  Model using tf-idf"
   ]
  },
  {
   "cell_type": "code",
   "execution_count": null,
   "id": "a20337d7-5f6e-4027-9498-f133ba350c7f",
   "metadata": {},
   "outputs": [],
   "source": []
  },
  {
   "cell_type": "code",
   "execution_count": 58,
   "id": "ac3d1c18-e4de-41a0-9610-c367b792d4ad",
   "metadata": {},
   "outputs": [],
   "source": [
    "# defining a function that returns response to query using tf-idf\n",
    "\n",
    "def chat_tfidf(text):\n",
    "    lemma=text_normalization(text) # calling the function to perform text normalization\n",
    "    tf=tfidf.transform([lemma]).toarray() # applying tf-idf\n",
    "    cos=1-pairwise_distances(df_tfidf,tf,metric='cosine') # applying cosine similarity\n",
    "    index_value=cos.argmax() # getting index value \n",
    "    return df['Text Response'].loc[index_value]\n"
   ]
  },
  {
   "cell_type": "code",
   "execution_count": 59,
   "id": "ae3907af-e839-4bff-8d53-a8566bececa8",
   "metadata": {},
   "outputs": [
    {
     "data": {
      "text/plain": [
       "'Hey!'"
      ]
     },
     "execution_count": 59,
     "metadata": {},
     "output_type": "execute_result"
    }
   ],
   "source": [
    "chat_tfidf('hi')"
   ]
  },
  {
   "cell_type": "code",
   "execution_count": 60,
   "id": "242516b6-3401-4a97-80b3-f20abd9bef1a",
   "metadata": {},
   "outputs": [
    {
     "data": {
      "text/plain": [
       "'Lovely, thanks.'"
      ]
     },
     "execution_count": 60,
     "metadata": {},
     "output_type": "execute_result"
    }
   ],
   "source": [
    "chat_tfidf('how are you')"
   ]
  },
  {
   "cell_type": "code",
   "execution_count": 61,
   "id": "b1524887-31b9-44b9-bf38-efef459a6cea",
   "metadata": {},
   "outputs": [
    {
     "data": {
      "text/plain": [
       "\"That's great to hear.\""
      ]
     },
     "execution_count": 61,
     "metadata": {},
     "output_type": "execute_result"
    }
   ],
   "source": [
    "chat_tfidf('i love you')"
   ]
  },
  {
   "cell_type": "code",
   "execution_count": 62,
   "id": "2b64acc2-066d-4e79-8224-1c320437f138",
   "metadata": {},
   "outputs": [
    {
     "data": {
      "text/plain": [
       "\"It's my pleasure to help.\""
      ]
     },
     "execution_count": 62,
     "metadata": {},
     "output_type": "execute_result"
    }
   ],
   "source": [
    "chat_tfidf('thanks for your support!')"
   ]
  },
  {
   "cell_type": "code",
   "execution_count": 63,
   "id": "b50f86f8-e1d2-4a7d-94af-05968b7f5398",
   "metadata": {},
   "outputs": [
    {
     "data": {
      "text/plain": [
       "\"Oh, don't give up on me!\""
      ]
     },
     "execution_count": 63,
     "metadata": {},
     "output_type": "execute_result"
    }
   ],
   "source": [
    "chat_tfidf('will you reply accurately?')"
   ]
  },
  {
   "cell_type": "code",
   "execution_count": 64,
   "id": "59790baf-043c-4b38-a03c-1ab6e4142a5b",
   "metadata": {},
   "outputs": [
    {
     "data": {
      "text/plain": [
       "'In the virtual sense that I can, sure.'"
      ]
     },
     "execution_count": 64,
     "metadata": {},
     "output_type": "execute_result"
    }
   ],
   "source": [
    "chat_tfidf('will you marry me?')"
   ]
  },
  {
   "cell_type": "code",
   "execution_count": 65,
   "id": "d7ffdb51-d64e-40c3-b5eb-7c23c725b568",
   "metadata": {},
   "outputs": [
    {
     "data": {
      "text/plain": [
       "\"I've been right here all along!\""
      ]
     },
     "execution_count": 65,
     "metadata": {},
     "output_type": "execute_result"
    }
   ],
   "source": [
    "chat_tfidf('i miss you and i love you')"
   ]
  },
  {
   "cell_type": "code",
   "execution_count": 66,
   "id": "be7fdd0d-9cd3-4139-90f6-0aab2db97d61",
   "metadata": {},
   "outputs": [
    {
     "data": {
      "text/plain": [
       "\"Oops. Sorry about that. I'm still learning.\""
      ]
     },
     "execution_count": 66,
     "metadata": {},
     "output_type": "execute_result"
    }
   ],
   "source": [
    "chat_tfidf('ask sravya to read')"
   ]
  },
  {
   "cell_type": "code",
   "execution_count": 67,
   "id": "8d89606e-386a-420b-9895-963497336636",
   "metadata": {},
   "outputs": [
    {
     "data": {
      "text/plain": [
       "'Bye.'"
      ]
     },
     "execution_count": 67,
     "metadata": {},
     "output_type": "execute_result"
    }
   ],
   "source": [
    "chat_tfidf('you are amazing and hope to see u soon.')"
   ]
  },
  {
   "cell_type": "code",
   "execution_count": 68,
   "id": "731ae1be-71bc-438d-89e1-0a1dddd3a701",
   "metadata": {},
   "outputs": [
    {
     "data": {
      "text/plain": [
       "'Howdy.'"
      ]
     },
     "execution_count": 68,
     "metadata": {},
     "output_type": "execute_result"
    }
   ],
   "source": [
    "chat_tfidf('Hello.  My name is Richard.')"
   ]
  },
  {
   "cell_type": "code",
   "execution_count": 69,
   "id": "1c7748d0-c31f-4785-8e3e-a2b2015907c1",
   "metadata": {},
   "outputs": [
    {
     "data": {
      "text/plain": [
       "'Right here.'"
      ]
     },
     "execution_count": 69,
     "metadata": {},
     "output_type": "execute_result"
    }
   ],
   "source": [
    "chat_tfidf('What is your name?')"
   ]
  },
  {
   "cell_type": "code",
   "execution_count": 70,
   "id": "ee6ad4ba-cda8-4503-9a80-fdcf76c9f009",
   "metadata": {},
   "outputs": [
    {
     "data": {
      "text/plain": [
       "'You have a great laugh.'"
      ]
     },
     "execution_count": 70,
     "metadata": {},
     "output_type": "execute_result"
    }
   ],
   "source": [
    "chat_tfidf(\"That's a funny name\")"
   ]
  },
  {
   "cell_type": "code",
   "execution_count": 71,
   "id": "e9c8258e-6520-4c29-b156-532d2dc98eac",
   "metadata": {},
   "outputs": [
    {
     "data": {
      "text/plain": [
       "\"It's okay. No worries.\""
      ]
     },
     "execution_count": 71,
     "metadata": {},
     "output_type": "execute_result"
    }
   ],
   "source": [
    "chat_tfidf(\"Sorry I didn't mean to offend you\")"
   ]
  },
  {
   "cell_type": "code",
   "execution_count": 72,
   "id": "161dd584-ae55-4385-bffb-5002f021c4bb",
   "metadata": {},
   "outputs": [],
   "source": [
    "SentimentResponses = {'negative':['You seem to be in a bad mood. ','That sounds weired coming from you. ',\n",
    "                    'Whatever you say, hefe. ', 'Awww...are you having a bad day? ', 'Woof, you totally hate. ',\n",
    "                     'How is that supposed to make me feel? ',\n",
    "                    'Not too many people like you, do they? ',], 'positive' :['You are clearly feeling positive today. ',\n",
    "                    'That\\'s a very accepting mood. ',\n",
    "                    'Your positive mood is contagious! ']}"
   ]
  },
  {
   "cell_type": "code",
   "execution_count": 77,
   "id": "6022aeaf",
   "metadata": {},
   "outputs": [],
   "source": [
    "#Incoparating sentiment analysis for the input\n",
    "def sentiment_bow(text):\n",
    "    sia = SentimentIntensityAnalyzer()\n",
    "    text_sentiment = sia.polarity_scores(text)['compound']\n",
    "    if text_sentiment > 0:\n",
    "        print('BOT: '+ random.choice(SentimentResponses['positive']) + bow(text))\n",
    "    elif text_sentiment < 0:\n",
    "        print('BOT: '+ random.choice(SentimentResponses['negative']) + bow(text))\n",
    "    else:\n",
    "        print('BOT: '+bow(text))"
   ]
  },
  {
   "cell_type": "code",
   "execution_count": 78,
   "id": "8a794bcb",
   "metadata": {},
   "outputs": [],
   "source": [
    "def text_nomalization(text):\n",
    "    text = str(text).lower()\n",
    "    clean_text = re.sub(r'[^ a-z0-9]', '', text)\n",
    "    tokens = word_tokenize(clean_text)\n",
    "    lemma = wordnet.WordNetLemmatizer()\n",
    "    pos = pos_tag(tokens, tagset = None)\n",
    "    words = []\n",
    "    for token, tag in pos:\n",
    "        if tag.startswith('V'):\n",
    "            pos_val = 'v'\n",
    "        elif tag.startswith('J'):\n",
    "            pos_val = 'a'\n",
    "        elif tag.startswith('R'):\n",
    "            pos_val = 'r'\n",
    "        else:\n",
    "            pos_val = 'n'\n",
    "        lemma_list = lemma.lemmatize(token, pos_val)\n",
    "        words.append(lemma_list)\n",
    "    return ' '.join(words)"
   ]
  },
  {
   "cell_type": "code",
   "execution_count": 79,
   "id": "65c4cc51",
   "metadata": {},
   "outputs": [],
   "source": [
    "Responses = {'Quit' : ['No', 'nop', 'no thank you', 'that was it', 'Stop', 'exit', 'Quit',\n",
    "            'Bye', 'byebye'], 'bye' : ['Please come back soon!', \n",
    "            'I\\'ll miss you friend!', 'See you soon!'], }"
   ]
  },
  {
   "cell_type": "code",
   "execution_count": 80,
   "id": "94e8248d",
   "metadata": {},
   "outputs": [
    {
     "name": "stdout",
     "output_type": "stream",
     "text": [
      "BOT: Hello, I'm a new chatbot you can talk to me here: \n",
      "\n",
      "HUMAN: \n",
      "\n"
     ]
    },
    {
     "ename": "NameError",
     "evalue": "name 'random' is not defined",
     "output_type": "error",
     "traceback": [
      "\u001b[1;31m---------------------------------------------------------------------------\u001b[0m",
      "\u001b[1;31mNameError\u001b[0m                                 Traceback (most recent call last)",
      "Input \u001b[1;32mIn [80]\u001b[0m, in \u001b[0;36m<cell line: 15>\u001b[1;34m()\u001b[0m\n\u001b[0;32m     12\u001b[0m             \u001b[38;5;28mprint\u001b[39m(\u001b[38;5;124m'\u001b[39m\u001b[38;5;124mBOT: \u001b[39m\u001b[38;5;124m'\u001b[39m \u001b[38;5;241m+\u001b[39m bow(question))\n\u001b[0;32m     13\u001b[0m             \u001b[38;5;28mprint\u001b[39m(\u001b[38;5;124m'\u001b[39m\u001b[38;5;124m'\u001b[39m)\n\u001b[1;32m---> 15\u001b[0m \u001b[43mbow_chat\u001b[49m\u001b[43m(\u001b[49m\u001b[43m)\u001b[49m\n",
      "Input \u001b[1;32mIn [80]\u001b[0m, in \u001b[0;36mbow_chat\u001b[1;34m()\u001b[0m\n\u001b[0;32m      6\u001b[0m \u001b[38;5;28;01mif\u001b[39;00m question \u001b[38;5;129;01min\u001b[39;00m text_nomalization(Responses[\u001b[38;5;124m'\u001b[39m\u001b[38;5;124mQuit\u001b[39m\u001b[38;5;124m'\u001b[39m]):\n\u001b[0;32m      7\u001b[0m     \u001b[38;5;28mprint\u001b[39m(\u001b[38;5;124m'\u001b[39m\u001b[38;5;124m'\u001b[39m)\n\u001b[1;32m----> 8\u001b[0m     \u001b[38;5;28mprint\u001b[39m(\u001b[38;5;124m'\u001b[39m\u001b[38;5;124mBOT: \u001b[39m\u001b[38;5;124m'\u001b[39m\u001b[38;5;241m+\u001b[39m\u001b[43mrandom\u001b[49m\u001b[38;5;241m.\u001b[39mchoice(Responses[\u001b[38;5;124m'\u001b[39m\u001b[38;5;124mbye\u001b[39m\u001b[38;5;124m'\u001b[39m]))\n\u001b[0;32m      9\u001b[0m     \u001b[38;5;28;01mbreak\u001b[39;00m\n\u001b[0;32m     10\u001b[0m \u001b[38;5;28;01melse\u001b[39;00m:\n",
      "\u001b[1;31mNameError\u001b[0m: name 'random' is not defined"
     ]
    }
   ],
   "source": [
    "def bow_chat():\n",
    "    print('BOT: Hello, I\\'m a new chatbot you can talk to me here: ')\n",
    "    print('')\n",
    "    while True:\n",
    "        question = text_nomalization(input('HUMAN: '))\n",
    "        if question in text_nomalization(Responses['Quit']):\n",
    "            print('')\n",
    "            print('BOT: '+random.choice(Responses['bye']))\n",
    "            break\n",
    "        else:\n",
    "            print('')\n",
    "            print('BOT: ' + bow(question))\n",
    "            print('')\n",
    "        \n",
    "bow_chat()"
   ]
  },
  {
   "cell_type": "code",
   "execution_count": 76,
   "id": "65a728bf",
   "metadata": {},
   "outputs": [
    {
     "name": "stdout",
     "output_type": "stream",
     "text": [
      "BOT: Hello, I'm a new chatbot you can talk to me here: \n",
      "\n",
      "HUMAN: Hello, what's your name\n"
     ]
    },
    {
     "ename": "NameError",
     "evalue": "name 'Responses' is not defined",
     "output_type": "error",
     "traceback": [
      "\u001b[1;31m---------------------------------------------------------------------------\u001b[0m",
      "\u001b[1;31mNameError\u001b[0m                                 Traceback (most recent call last)",
      "Input \u001b[1;32mIn [76]\u001b[0m, in \u001b[0;36m<cell line: 15>\u001b[1;34m()\u001b[0m\n\u001b[0;32m     12\u001b[0m             sentiment_bow(Q)\n\u001b[0;32m     13\u001b[0m             \u001b[38;5;28mprint\u001b[39m(\u001b[38;5;124m'\u001b[39m\u001b[38;5;124m'\u001b[39m)\n\u001b[1;32m---> 15\u001b[0m \u001b[43msentiment_bow_chat\u001b[49m\u001b[43m(\u001b[49m\u001b[43m)\u001b[49m\n",
      "Input \u001b[1;32mIn [76]\u001b[0m, in \u001b[0;36msentiment_bow_chat\u001b[1;34m()\u001b[0m\n\u001b[0;32m      4\u001b[0m \u001b[38;5;28;01mwhile\u001b[39;00m \u001b[38;5;28;01mTrue\u001b[39;00m:\n\u001b[0;32m      5\u001b[0m     Q\u001b[38;5;241m=\u001b[39m text_nomalization(\u001b[38;5;28minput\u001b[39m(\u001b[38;5;124m'\u001b[39m\u001b[38;5;124mHUMAN: \u001b[39m\u001b[38;5;124m'\u001b[39m))\n\u001b[1;32m----> 6\u001b[0m     \u001b[38;5;28;01mif\u001b[39;00m Q \u001b[38;5;129;01min\u001b[39;00m text_nomalization(\u001b[43mResponses\u001b[49m[\u001b[38;5;124m'\u001b[39m\u001b[38;5;124mQuit\u001b[39m\u001b[38;5;124m'\u001b[39m]):\n\u001b[0;32m      7\u001b[0m         \u001b[38;5;28mprint\u001b[39m(\u001b[38;5;124m'\u001b[39m\u001b[38;5;124m'\u001b[39m)\n\u001b[0;32m      8\u001b[0m         \u001b[38;5;28mprint\u001b[39m(\u001b[38;5;124m'\u001b[39m\u001b[38;5;124mBOT: \u001b[39m\u001b[38;5;124m'\u001b[39m\u001b[38;5;241m+\u001b[39mrandom\u001b[38;5;241m.\u001b[39mchoice(Responses[\u001b[38;5;124m'\u001b[39m\u001b[38;5;124mbye\u001b[39m\u001b[38;5;124m'\u001b[39m]))\n",
      "\u001b[1;31mNameError\u001b[0m: name 'Responses' is not defined"
     ]
    }
   ],
   "source": [
    "def sentiment_bow_chat():\n",
    "    print(\"BOT: Hello, I'm a new chatbot you can talk to me here: \")\n",
    "    print('')\n",
    "    while True:\n",
    "        Q= text_nomalization(input('HUMAN: '))\n",
    "        if Q in text_nomalization(Responses['Quit']):\n",
    "            print('')\n",
    "            print('BOT: '+random.choice(Responses['bye']))\n",
    "            break\n",
    "        else:\n",
    "            print('')\n",
    "            sentiment_bow(Q)\n",
    "            print('')\n",
    "            \n",
    "sentiment_bow_chat()"
   ]
  },
  {
   "cell_type": "code",
   "execution_count": null,
   "id": "61b3fd22",
   "metadata": {},
   "outputs": [],
   "source": []
  }
 ],
 "metadata": {
  "kernelspec": {
   "display_name": "Python 3 (ipykernel)",
   "language": "python",
   "name": "python3"
  },
  "language_info": {
   "codemirror_mode": {
    "name": "ipython",
    "version": 3
   },
   "file_extension": ".py",
   "mimetype": "text/x-python",
   "name": "python",
   "nbconvert_exporter": "python",
   "pygments_lexer": "ipython3",
   "version": "3.9.12"
  }
 },
 "nbformat": 4,
 "nbformat_minor": 5
}
